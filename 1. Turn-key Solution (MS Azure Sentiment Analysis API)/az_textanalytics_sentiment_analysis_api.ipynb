{
 "cells": [
  {
   "cell_type": "markdown",
   "metadata": {
    "id": "POx1qalVBxbR"
   },
   "source": [
    "**Author** : V.Joan Aléonard<br>\n",
    "**Last update** :  3 May 2021<br>\n",
    "**OC English path** : https://openclassrooms.com/fr/paths/167-ai-engineer#path-tabs<br>\n",
    "**OC French path** : https://openclassrooms.com/fr/paths/188-ingenieur-ia#path-tabs<br>\n",
    "**Title** : **Use Deep Learning to detect Bad Buzz**"
   ]
  },
  {
   "cell_type": "markdown",
   "metadata": {
    "id": "DHcwm60yYD_v"
   },
   "source": [
    "![air-paradis](https://drive.google.com/uc?id=1T26mpOAUvJP700W4m8bjfYCLmDYVcyJL)"
   ]
  },
  {
   "cell_type": "markdown",
   "metadata": {
    "id": "2Yw-JQJcB42U"
   },
   "source": [
    "# <font color=red><center>**AIR PARADIS**</center></font>"
   ]
  },
  {
   "cell_type": "markdown",
   "metadata": {
    "id": "HAHnoT_dB6I6"
   },
   "source": [
    "**Air Paradis** is an airline company that wants to use AI (*Artificial Intelligence*) to **detect Bad Buzz associated with its brand** in online public tweets.\n",
    "\n",
    "**As AI engineer for Marketing Intelligence Consulting**, we will dive into **NLP** (*Natural Language Processing*) techniques to serve Air Paradis' purpose.\n",
    "\n",
    "Indeed, NLP allows a machine to **understand and process human language**. It will help us to solve this **text classification goal** and **detect sentiment** (positive or negative) from these tweets.\n",
    "\n",
    "We will deploy our best **DETECT SENTIMENT solution** through <font color=salmon>**Microsoft Azure Machine Learning plateform**</font> (***MS Azure ML***).\n",
    "\n",
    "<br>\n",
    "\n",
    "Therefore, we will structure the project as follows:\n",
    "\n",
    "<br>\n",
    "\n",
    "| **Services / Tools** | **Objective** | **Available notebook** |\n",
    "| :-- | :-- | :-- |\n",
    "| **Google Colab and Python libraries** | Build quality of data by pre-processing the tweets text | Notebook N°1 |\n",
    "| **Google Colab / MS Azure Cognitive Services API** | Use Text Analytics > Sentiment API | **<font color=green>Notebook N°2</font>** |\n",
    "| **Python Script / MS Azure ML Studio > Designer** | Use \"Drag-and-Drop\" pipeline with no code in Azure ML Studio| Notebook N°3 |\n",
    "| **Tensorflow-Keras / Google Colab PRO with GPU/TPU** | Train and evaluate advanced models | Notebook N°4 |\n",
    "| **MS Azure ML Cloud > Models** | Deploy the best solution in MS Azure WebService | Notebook N°5 |\n",
    "\n",
    "<br>\n",
    "\n",
    "This notebook is dedicated to 2nd task : detect sentiment throuhg MS Azure Cognitive Services, and its readily available **Text Analytics / Sentiment API**."
   ]
  },
  {
   "cell_type": "markdown",
   "metadata": {
    "id": "PKNyrF3Earzl"
   },
   "source": [
    "# <font color=brown><center>**NOTEBOOK 2<br>SENTIMENT DETECTION<br>AZURE COGNITIVE SERVICES**</center></font>"
   ]
  },
  {
   "cell_type": "markdown",
   "metadata": {
    "id": "S4aS4Oi_nOWh"
   },
   "source": [
    "![azure-cognitive-service](https://drive.google.com/uc?id=1HkJOrsXUSR4S6tBkYFSMdzg0002-OKnM)"
   ]
  },
  {
   "cell_type": "markdown",
   "metadata": {
    "id": "ZbyajgtaDPrX"
   },
   "source": [
    "# <font color=salmon>PART 1 - AZURE TEXT ANALYTICS: TERMS OF USE</font>"
   ]
  },
  {
   "cell_type": "markdown",
   "metadata": {
    "id": "Yen3iYLg11Gd"
   },
   "source": [
    "## <font color=green>P1.1 - Understand Azure</font>"
   ]
  },
  {
   "cell_type": "markdown",
   "metadata": {
    "id": "D7EtEx7kmdCX"
   },
   "source": [
    "<font color=green>**Azure**</font> is a **cloud computing platform** with an ever-expanding set of services to help you build solutions to meet your business goals. \n",
    "\n",
    "**Azure services** range from simple web services for hosting business presence in the cloud to running fully virtualized computers to run custom software solutions.\n",
    "\n",
    "Azure provides a wealth of cloud-based services like remote storage, database hosting, and centralized account management. \n",
    "\n",
    "Azure also offers **new capabilities like AI** and Internet of Things (IoT)."
   ]
  },
  {
   "cell_type": "markdown",
   "metadata": {
    "id": "JUKVs1oW2ARi"
   },
   "source": [
    "## <font color=green>P1.2 - Understand Azure Cognitive Services</font>"
   ]
  },
  {
   "cell_type": "markdown",
   "metadata": {
    "id": "VcyP8D_ZnVEI"
   },
   "source": [
    "<font color=green>**Azure Cognitive Services**</font> are a collection of machine learning and AI algorithms in the cloud for your development projects. They play an important role in **developing AI infused applications**.\n",
    "\n",
    "Indeed, all it takes is an **API call** to embed the **ability to see, hear, speak, search, understand, and accelerate decision-making** into Apps, thanks to a comprehensive family of AI services and cognitive APIs.\n",
    "\n",
    "Using the various services (Text Analytics, Speech, Computer Vision etc.), requires, at a minimum, an **access key and a service endpoint URL**. The information is required for authorization of applications that will be accessing these services."
   ]
  },
  {
   "cell_type": "markdown",
   "metadata": {
    "id": "ASoBnyaq2HlK"
   },
   "source": [
    "## <font color=green>P1.3 - Understand Azure Text Analytics > Sentiment</font>"
   ]
  },
  {
   "cell_type": "markdown",
   "metadata": {
    "id": "W49VwRMBBJ4w"
   },
   "source": [
    "### <font color=blue>P1.3.1 - Understand the purpose</font>"
   ]
  },
  {
   "cell_type": "markdown",
   "metadata": {
    "id": "13WwykfrA3x7"
   },
   "source": [
    "The **Text Analytics API** is a cloud-based service that provides **Natural Language Processing (NLP) features** for text mining and text analysis, including: sentiment analysis, opinion mining, key phrase extraction, language detection, and named entity recognition.\n",
    "\n",
    "**Sentiment Analysis** is used to find out what people think of our brand or topic, by mining the text for clues about positive or negative sentiment.\n",
    "\n",
    "The feature provides different **labels**: positive, negative, neutral (sometimes, mixed), based on the highest confidence score found by the service at a sentence and/or document-level. It returns also confidence scores (between 0 and 1) for each document and sentences within it for positive, negative or neutral sentiment."
   ]
  },
  {
   "cell_type": "markdown",
   "metadata": {
    "id": "sxVS_oi7BUKk"
   },
   "source": [
    "### <font color=blue>P1.3.2 - Understand the general terms of use (GTU)</font>"
   ]
  },
  {
   "cell_type": "markdown",
   "metadata": {
    "id": "l8s6ULHBEabF"
   },
   "source": [
    "MS Azure Cognitive Services usually request a specific **document format** for the use its services. \n",
    "\n",
    "For *Text Analytics > Sentiment* API, **documents should be submitted in a JSON object** as described below:\n",
    "- <code>**id**</code>: Data type is string; result is generated for each ID in the request;\n",
    "- <code>**language**</code>: 2-character code; here, per default, we put *'en'* for all rows;\n",
    "- <code>**text**</code>: unstructured raw text also called *document*, with a maximum size of **5,120 characters**; <code>*invalid request error*</code> will be returned if a document exceeds the maximum size.\n",
    "\n",
    "**NOTE**<br>\n",
    "We should also keep in mind that each processed document counts as a transaction.<br>The maximum number of documents that can be sent in a single request depend on the API version and feature.<br>Current API version is v3: the document limit for Sentiment Analysis is **10**; exceeding the limits will generate an HTTP 400 error code.\n",
    "\n",
    "For further information, documentation can be found [here](https://docs.microsoft.com/en-us/azure/cognitive-services/text-analytics/concepts/data-limits?tabs=version-3)"
   ]
  },
  {
   "cell_type": "markdown",
   "metadata": {
    "id": "85CjHl47gm9z"
   },
   "source": [
    "![.](https://drive.google.com/uc?id=1gDzc9sjicNHTYZvD6_fY3bx5w_HgJxoA)"
   ]
  },
  {
   "cell_type": "markdown",
   "metadata": {
    "id": "TYW4_8OpkAOy"
   },
   "source": [
    "### <font color=blue>P1.3.3 - Microsoft pricing</font>"
   ]
  },
  {
   "cell_type": "markdown",
   "metadata": {
    "id": "kEL--FUvkhkj"
   },
   "source": [
    "Depending on the usage, we can choose the pricing that apply to our needs."
   ]
  },
  {
   "cell_type": "markdown",
   "metadata": {
    "id": "qPCynjUJlQrJ"
   },
   "source": [
    "![pricing](https://drive.google.com/uc?id=1BseU_QtTdQijgvBkWACXWYrrsxSZ-YF4)"
   ]
  },
  {
   "cell_type": "markdown",
   "metadata": {
    "id": "9xpW6QsUhxuW"
   },
   "source": [
    "# <font color=salmon>PART 2 - PREPARE DATASET AND CREDENTIALS</font>"
   ]
  },
  {
   "cell_type": "markdown",
   "metadata": {
    "id": "TxeESTByoDxB"
   },
   "source": [
    "Before we can use the service, we need to setup all the work environment:\n",
    "- Install Azure Machine Learning and AI Text Analytics via Azure ML SDK for Python;\n",
    "- Load the API credentials (subscription key and endpoint) we got when we have created the resource on Azure Portal;\n",
    "- Create the sample of the dataset we will use (here, we will only take 500 rows per sentiment - positive and negative);\n",
    "- Create a function to call the service."
   ]
  },
  {
   "cell_type": "markdown",
   "metadata": {
    "id": "qUel_eeji0k0"
   },
   "source": [
    "## <font color=green>P2.1 - Load libraries</font>"
   ]
  },
  {
   "cell_type": "code",
   "execution_count": 1,
   "metadata": {
    "id": "3N7TMufriIXP"
   },
   "outputs": [],
   "source": [
    "from IPython.display import clear_output\n",
    "\n",
    "# Install library\n",
    "!pip install azureml-core\n",
    "!pip install azure-ai-textanalytics\n",
    "\n",
    "clear_output()"
   ]
  },
  {
   "cell_type": "code",
   "execution_count": 2,
   "metadata": {
    "id": "Adc9_WbeDW7h"
   },
   "outputs": [],
   "source": [
    "# Import libraries\n",
    "import pandas as pd\n",
    "import numpy as np\n",
    "from pathlib import Path\n",
    "import json\n",
    "from time import time\n",
    "\n",
    "from sklearn.metrics import roc_curve, auc, accuracy_score\n",
    "from sklearn.metrics import classification_report\n",
    "\n",
    "import matplotlib.pyplot as plt\n",
    "import seaborn as sns\n",
    "%matplotlib inline\n",
    "\n",
    "# Set environment and tools configuration\n",
    "src_folder = Path('/content/drive/MyDrive/OC_IA/P07')\n",
    "pd.set_option(\"display.max_colwidth\", 200)"
   ]
  },
  {
   "cell_type": "markdown",
   "metadata": {
    "id": "4HwNMErMHsIL"
   },
   "source": [
    "## <font color=green>P2.2 - Create sample dataframe</font>"
   ]
  },
  {
   "cell_type": "code",
   "execution_count": 3,
   "metadata": {
    "colab": {
     "base_uri": "https://localhost:8080/",
     "height": 289
    },
    "id": "whC9bM5lJOfA",
    "outputId": "7a5f3761-7659-4d85-c3ff-409270a9c7be"
   },
   "outputs": [
    {
     "name": "stdout",
     "output_type": "stream",
     "text": [
      "(1559817, 4)\n"
     ]
    },
    {
     "data": {
      "text/html": [
       "<div>\n",
       "<style scoped>\n",
       "    .dataframe tbody tr th:only-of-type {\n",
       "        vertical-align: middle;\n",
       "    }\n",
       "\n",
       "    .dataframe tbody tr th {\n",
       "        vertical-align: top;\n",
       "    }\n",
       "\n",
       "    .dataframe thead th {\n",
       "        text-align: right;\n",
       "    }\n",
       "</style>\n",
       "<table border=\"1\" class=\"dataframe\">\n",
       "  <thead>\n",
       "    <tr style=\"text-align: right;\">\n",
       "      <th></th>\n",
       "      <th>sentiment</th>\n",
       "      <th>tweet</th>\n",
       "      <th>clean_tweet</th>\n",
       "      <th>lemma_tweet</th>\n",
       "    </tr>\n",
       "  </thead>\n",
       "  <tbody>\n",
       "    <tr>\n",
       "      <th>0</th>\n",
       "      <td>0</td>\n",
       "      <td>@switchfoot http://twitpic.com/2y1zl - Awww, that's a bummer.  You shoulda got David Carr of Third Day to do it. ;D</td>\n",
       "      <td>user url w that is a bummer you should got david carr of third day to do it d</td>\n",
       "      <td>user url bummer got david carr third day</td>\n",
       "    </tr>\n",
       "    <tr>\n",
       "      <th>1</th>\n",
       "      <td>0</td>\n",
       "      <td>is upset that he can't update his Facebook by texting it... and might cry as a result  School today also. Blah!</td>\n",
       "      <td>is upset that he can not update his facebook by texting it and might cry as a result school today also</td>\n",
       "      <td>upset not update facebook texting cry result school today also</td>\n",
       "    </tr>\n",
       "    <tr>\n",
       "      <th>2</th>\n",
       "      <td>0</td>\n",
       "      <td>@Kenichan I dived many times for the ball. Managed to save 50%  The rest go out of bounds</td>\n",
       "      <td>user i dived many times for the ball managed to save the rest go out of bounds</td>\n",
       "      <td>user dived many time ball managed save rest go bound</td>\n",
       "    </tr>\n",
       "    <tr>\n",
       "      <th>3</th>\n",
       "      <td>0</td>\n",
       "      <td>my whole body feels itchy and like its on fire</td>\n",
       "      <td>my whole body feels itchy and like it is on fire</td>\n",
       "      <td>whole body feel itchy like fire</td>\n",
       "    </tr>\n",
       "    <tr>\n",
       "      <th>4</th>\n",
       "      <td>0</td>\n",
       "      <td>@nationwideclass no, it's not behaving at all. i'm mad. why am i here? because I can't see you all over there.</td>\n",
       "      <td>user no it is not behaving at all i am mad why am i here because i can not see you all over there</td>\n",
       "      <td>user no not behaving mad not see</td>\n",
       "    </tr>\n",
       "  </tbody>\n",
       "</table>\n",
       "</div>"
      ],
      "text/plain": [
       "   sentiment  ...                                                     lemma_tweet\n",
       "0          0  ...                        user url bummer got david carr third day\n",
       "1          0  ...  upset not update facebook texting cry result school today also\n",
       "2          0  ...            user dived many time ball managed save rest go bound\n",
       "3          0  ...                                 whole body feel itchy like fire\n",
       "4          0  ...                                user no not behaving mad not see\n",
       "\n",
       "[5 rows x 4 columns]"
      ]
     },
     "execution_count": 3,
     "metadata": {
      "tags": []
     },
     "output_type": "execute_result"
    }
   ],
   "source": [
    "# Import pre-processed data\n",
    "df = pd.read_csv(src_folder / 'p7_01b_final_df.csv')\n",
    "\n",
    "# Drop useless features\n",
    "df = df.drop(columns=['user', 'clean_w_count', 'noStop_tweet', 'lemma_w_count'])\n",
    "\n",
    "# Display shape and 5 first rows\n",
    "print(df.shape)\n",
    "df.head()"
   ]
  },
  {
   "cell_type": "code",
   "execution_count": 4,
   "metadata": {
    "colab": {
     "base_uri": "https://localhost:8080/",
     "height": 323
    },
    "id": "XkqxDcWUHnJE",
    "outputId": "bc4b8cfa-76be-4588-9753-55c4da56b2b7"
   },
   "outputs": [
    {
     "name": "stdout",
     "output_type": "stream",
     "text": [
      "SAMPLE dimension:  (1000, 4)\n",
      "SENTIMENT distribution: \n",
      " 1    500\n",
      "0    500\n",
      "Name: sentiment, dtype: int64\n"
     ]
    },
    {
     "data": {
      "text/html": [
       "<div>\n",
       "<style scoped>\n",
       "    .dataframe tbody tr th:only-of-type {\n",
       "        vertical-align: middle;\n",
       "    }\n",
       "\n",
       "    .dataframe tbody tr th {\n",
       "        vertical-align: top;\n",
       "    }\n",
       "\n",
       "    .dataframe thead th {\n",
       "        text-align: right;\n",
       "    }\n",
       "</style>\n",
       "<table border=\"1\" class=\"dataframe\">\n",
       "  <thead>\n",
       "    <tr style=\"text-align: right;\">\n",
       "      <th></th>\n",
       "      <th>tweet</th>\n",
       "      <th>text_cl</th>\n",
       "      <th>text_lm</th>\n",
       "      <th>sentiment</th>\n",
       "    </tr>\n",
       "  </thead>\n",
       "  <tbody>\n",
       "    <tr>\n",
       "      <th>0</th>\n",
       "      <td>Sad that i have been gone for a week missing my puppy and tomorrow i have to leave again for a week</td>\n",
       "      <td>sad that i have been gone for a week missing my puppy and tomorrow i have to leave again for a week</td>\n",
       "      <td>sad gone week missing puppy tomorrow leave week</td>\n",
       "      <td>0</td>\n",
       "    </tr>\n",
       "    <tr>\n",
       "      <th>1</th>\n",
       "      <td>I have a sore throat</td>\n",
       "      <td>i have a sore throat</td>\n",
       "      <td>sore throat</td>\n",
       "      <td>0</td>\n",
       "    </tr>\n",
       "    <tr>\n",
       "      <th>2</th>\n",
       "      <td>is so extremely tired and dosent want to go to school today</td>\n",
       "      <td>is so extremely tired and dosent want to go to school today</td>\n",
       "      <td>extremely tired dosent want go school today</td>\n",
       "      <td>0</td>\n",
       "    </tr>\n",
       "    <tr>\n",
       "      <th>3</th>\n",
       "      <td>@crazydiamondsi Eh up you  We are talking SAAB 9-5 se, estate too. Had to get a 2.0t as insurance wouldn't touch Poppet on a 2.3t</td>\n",
       "      <td>user eh up you we are talking saab se estate too had to get a t as insurance would not touch poppet on a t</td>\n",
       "      <td>user eh talking saab se estate get insurance not touch poppet</td>\n",
       "      <td>0</td>\n",
       "    </tr>\n",
       "    <tr>\n",
       "      <th>4</th>\n",
       "      <td>@dougiemcfly thanks for the opinion dougie ha ha</td>\n",
       "      <td>user thanks for the opinion dougie ha ha</td>\n",
       "      <td>user thanks opinion dougie ha ha</td>\n",
       "      <td>0</td>\n",
       "    </tr>\n",
       "  </tbody>\n",
       "</table>\n",
       "</div>"
      ],
      "text/plain": [
       "                                                                                                                                tweet  ... sentiment\n",
       "0                                Sad that i have been gone for a week missing my puppy and tomorrow i have to leave again for a week   ...         0\n",
       "1                                                                                                               I have a sore throat   ...         0\n",
       "2                                                                        is so extremely tired and dosent want to go to school today   ...         0\n",
       "3  @crazydiamondsi Eh up you  We are talking SAAB 9-5 se, estate too. Had to get a 2.0t as insurance wouldn't touch Poppet on a 2.3t   ...         0\n",
       "4                                                                                   @dougiemcfly thanks for the opinion dougie ha ha   ...         0\n",
       "\n",
       "[5 rows x 4 columns]"
      ]
     },
     "execution_count": 4,
     "metadata": {
      "tags": []
     },
     "output_type": "execute_result"
    }
   ],
   "source": [
    "# Define the number of observation per classe (positive / negative)\n",
    "N_SENTIMENT = 500 #@param [\"500\", \"1000\", \"2500\"] {type:\"raw\"}\n",
    "\n",
    "# Create a sample of DF\n",
    "sample_df = df.groupby('sentiment').apply(lambda x: x.sample(n=N_SENTIMENT,\n",
    "                                                             random_state=42))\n",
    "sample_df.reset_index(drop=True, inplace=True)\n",
    "\n",
    "# Re-order columns for clarity\n",
    "sample_df = sample_df[['tweet', 'clean_tweet', 'lemma_tweet', 'sentiment']]\n",
    "sample_df = sample_df.rename(columns={'clean_tweet':'text_cl',\n",
    "                                      'lemma_tweet':'text_lm'})\n",
    "\n",
    "# Display DF main info\n",
    "print('SAMPLE dimension: ', sample_df.shape)\n",
    "print('SENTIMENT distribution: \\n', sample_df.sentiment.value_counts())\n",
    "sample_df.head()"
   ]
  },
  {
   "cell_type": "code",
   "execution_count": 5,
   "metadata": {
    "id": "sdi-bnCMKHKG"
   },
   "outputs": [],
   "source": [
    "# Save to csv file\n",
    "sample_df.to_csv(src_folder / 'p7_02_sample_df.csv', index=False)"
   ]
  },
  {
   "cell_type": "markdown",
   "metadata": {
    "id": "xXHgbVEtidCW"
   },
   "source": [
    "## <font color=green>P2.3 - Load API credentials</font>"
   ]
  },
  {
   "cell_type": "markdown",
   "metadata": {
    "id": "fPHX9GUYimxS"
   },
   "source": [
    "Here we create a function to instantiate the <code>**TextAnalyticsClient**</code> object with the **key** and the **endpoint** saved in JSON file."
   ]
  },
  {
   "cell_type": "code",
   "execution_count": 6,
   "metadata": {
    "id": "HykfwqaEiHR9"
   },
   "outputs": [],
   "source": [
    "from azure.core.credentials import AzureKeyCredential\n",
    "from azure.ai.textanalytics import TextAnalyticsClient\n",
    "\n",
    "# Import API credentials from JSON file\n",
    "with open(src_folder / 'p7_02_credentials.json') as creds:\n",
    "    credentials = json.load(creds)\n",
    "\n",
    "# Set API variables\n",
    "subscription_key = credentials['api_key']\n",
    "endpoint = credentials['endpoint']\n",
    "\n",
    "def authenticate_client():\n",
    "    my_credential = AzureKeyCredential(subscription_key)\n",
    "    text_analytics_client = TextAnalyticsClient(\n",
    "        endpoint=endpoint,\n",
    "        credential=my_credential)\n",
    "    return text_analytics_client\n",
    "\n",
    "# Create a new client\n",
    "client = authenticate_client()"
   ]
  },
  {
   "cell_type": "markdown",
   "metadata": {
    "id": "LpIvR1oUtu9y"
   },
   "source": [
    "## <font color=green>P2.4 - Create function to call the service</font>"
   ]
  },
  {
   "cell_type": "markdown",
   "metadata": {
    "id": "RgznLjFBOPvA"
   },
   "source": [
    "Then we create a function as workaround to GTU limitations."
   ]
  },
  {
   "cell_type": "code",
   "execution_count": 7,
   "metadata": {
    "id": "F7X9oAC8mFsj"
   },
   "outputs": [],
   "source": [
    "# Function to process sentiment detection\n",
    "def sentiment_analysis(client, doc):\n",
    "    documents = [doc]\n",
    "    response = client.analyze_sentiment(documents=documents)[0]\n",
    "    for idx, sentence in enumerate(response.sentences):\n",
    "        return sentence.sentiment"
   ]
  },
  {
   "cell_type": "markdown",
   "metadata": {
    "id": "a6cfqfpupWmL"
   },
   "source": [
    "Now that we have prepared all the environment requirements, we will do the following study in parts 3, 4 and 5, respectively:\n",
    "\n",
    "\n",
    "1.   Test the service **with non-processed tweets**;\n",
    "2.   Test the service **with cleaned tweets**;\n",
    "3.   Test the service **lemmatized tweets (stopwords excluded)**;"
   ]
  },
  {
   "cell_type": "markdown",
   "metadata": {
    "id": "2FdcBFGWsqdO"
   },
   "source": [
    "# <font color=salmon>PART 3 - DETECT SENTIMENT WITH TWEETS WITHOUT PRE-PROCESSING</font>"
   ]
  },
  {
   "cell_type": "markdown",
   "metadata": {
    "id": "xFLHeX1cpA9I"
   },
   "source": [
    "In this part, we will try to use the service with the tweets **without any preprocessing**.\n",
    "\n",
    "Indeed, there is no mention anywhere that the API can or cannot take raw text in charge.\n",
    "\n",
    "The best way to know is to test !"
   ]
  },
  {
   "cell_type": "markdown",
   "metadata": {
    "id": "YrcaE5aTuGpZ"
   },
   "source": [
    "## <font color=green>P3.1 - Process sentiment detection</font>"
   ]
  },
  {
   "cell_type": "code",
   "execution_count": 8,
   "metadata": {
    "colab": {
     "base_uri": "https://localhost:8080/",
     "height": 204
    },
    "id": "o0vmeGb_ImMW",
    "outputId": "533fbbd2-6047-4e51-b1d6-2ff1807c2605"
   },
   "outputs": [
    {
     "data": {
      "text/html": [
       "<div>\n",
       "<style scoped>\n",
       "    .dataframe tbody tr th:only-of-type {\n",
       "        vertical-align: middle;\n",
       "    }\n",
       "\n",
       "    .dataframe tbody tr th {\n",
       "        vertical-align: top;\n",
       "    }\n",
       "\n",
       "    .dataframe thead th {\n",
       "        text-align: right;\n",
       "    }\n",
       "</style>\n",
       "<table border=\"1\" class=\"dataframe\">\n",
       "  <thead>\n",
       "    <tr style=\"text-align: right;\">\n",
       "      <th></th>\n",
       "      <th>text</th>\n",
       "      <th>label</th>\n",
       "      <th>prediction</th>\n",
       "    </tr>\n",
       "  </thead>\n",
       "  <tbody>\n",
       "    <tr>\n",
       "      <th>0</th>\n",
       "      <td>Sad that i have been gone for a week missing my puppy and tomorrow i have to leave again for a week</td>\n",
       "      <td>0</td>\n",
       "      <td>negative</td>\n",
       "    </tr>\n",
       "    <tr>\n",
       "      <th>1</th>\n",
       "      <td>I have a sore throat</td>\n",
       "      <td>0</td>\n",
       "      <td>negative</td>\n",
       "    </tr>\n",
       "    <tr>\n",
       "      <th>2</th>\n",
       "      <td>is so extremely tired and dosent want to go to school today</td>\n",
       "      <td>0</td>\n",
       "      <td>negative</td>\n",
       "    </tr>\n",
       "    <tr>\n",
       "      <th>3</th>\n",
       "      <td>@crazydiamondsi Eh up you  We are talking SAAB 9-5 se, estate too. Had to get a 2.0t as insurance wouldn't touch Poppet on a 2.3t</td>\n",
       "      <td>0</td>\n",
       "      <td>neutral</td>\n",
       "    </tr>\n",
       "    <tr>\n",
       "      <th>4</th>\n",
       "      <td>@dougiemcfly thanks for the opinion dougie ha ha</td>\n",
       "      <td>0</td>\n",
       "      <td>positive</td>\n",
       "    </tr>\n",
       "  </tbody>\n",
       "</table>\n",
       "</div>"
      ],
      "text/plain": [
       "                                                                                                                                 text  ... prediction\n",
       "0                                Sad that i have been gone for a week missing my puppy and tomorrow i have to leave again for a week   ...   negative\n",
       "1                                                                                                               I have a sore throat   ...   negative\n",
       "2                                                                        is so extremely tired and dosent want to go to school today   ...   negative\n",
       "3  @crazydiamondsi Eh up you  We are talking SAAB 9-5 se, estate too. Had to get a 2.0t as insurance wouldn't touch Poppet on a 2.3t   ...    neutral\n",
       "4                                                                                   @dougiemcfly thanks for the opinion dougie ha ha   ...   positive\n",
       "\n",
       "[5 rows x 3 columns]"
      ]
     },
     "execution_count": 8,
     "metadata": {
      "tags": []
     },
     "output_type": "execute_result"
    }
   ],
   "source": [
    "data = pd.DataFrame(columns=['text', 'label', 'prediction'])\n",
    "\n",
    "# Process prediction\n",
    "start = time()\n",
    "for index, row in sample_df.iterrows():\n",
    "    data = data.append({'text': row['tweet'],\n",
    "                        'label': row['sentiment'],\n",
    "                        'prediction': sentiment_analysis(client, row['tweet'])},\n",
    "                       ignore_index=True)\n",
    "pred_time = (time()-start)\n",
    "\n",
    "# Display 5 first rows\n",
    "data.head()"
   ]
  },
  {
   "cell_type": "code",
   "execution_count": 9,
   "metadata": {
    "id": "WzogiysJuYN4"
   },
   "outputs": [],
   "source": [
    "# Save to CSV file\n",
    "data.to_csv(src_folder / 'p7_02_api_original_tweet.csv')"
   ]
  },
  {
   "cell_type": "markdown",
   "metadata": {
    "id": "m3FQ5GUbueyC"
   },
   "source": [
    "## <font color=green>P3.2 - Exclude neutral predictions</font>"
   ]
  },
  {
   "cell_type": "code",
   "execution_count": 10,
   "metadata": {
    "colab": {
     "base_uri": "https://localhost:8080/",
     "height": 238
    },
    "id": "pDBdbqhtufJr",
    "outputId": "61988e3f-9fb1-4566-c4d1-82f199b0b2dc"
   },
   "outputs": [
    {
     "name": "stdout",
     "output_type": "stream",
     "text": [
      "Nb rows:  628\n",
      "Proportion vs Total sample: 62.8%\n"
     ]
    },
    {
     "data": {
      "text/html": [
       "<div>\n",
       "<style scoped>\n",
       "    .dataframe tbody tr th:only-of-type {\n",
       "        vertical-align: middle;\n",
       "    }\n",
       "\n",
       "    .dataframe tbody tr th {\n",
       "        vertical-align: top;\n",
       "    }\n",
       "\n",
       "    .dataframe thead th {\n",
       "        text-align: right;\n",
       "    }\n",
       "</style>\n",
       "<table border=\"1\" class=\"dataframe\">\n",
       "  <thead>\n",
       "    <tr style=\"text-align: right;\">\n",
       "      <th></th>\n",
       "      <th>text</th>\n",
       "      <th>label</th>\n",
       "      <th>prediction</th>\n",
       "    </tr>\n",
       "  </thead>\n",
       "  <tbody>\n",
       "    <tr>\n",
       "      <th>0</th>\n",
       "      <td>Sad that i have been gone for a week missing my puppy and tomorrow i have to leave again for a week</td>\n",
       "      <td>0</td>\n",
       "      <td>0</td>\n",
       "    </tr>\n",
       "    <tr>\n",
       "      <th>1</th>\n",
       "      <td>I have a sore throat</td>\n",
       "      <td>0</td>\n",
       "      <td>0</td>\n",
       "    </tr>\n",
       "    <tr>\n",
       "      <th>2</th>\n",
       "      <td>is so extremely tired and dosent want to go to school today</td>\n",
       "      <td>0</td>\n",
       "      <td>0</td>\n",
       "    </tr>\n",
       "    <tr>\n",
       "      <th>4</th>\n",
       "      <td>@dougiemcfly thanks for the opinion dougie ha ha</td>\n",
       "      <td>0</td>\n",
       "      <td>1</td>\n",
       "    </tr>\n",
       "    <tr>\n",
       "      <th>5</th>\n",
       "      <td>@dullyM i would but Ive got a little one who is cheese challenged..    it makes dinners difficult when most of us live off cheese...</td>\n",
       "      <td>0</td>\n",
       "      <td>0</td>\n",
       "    </tr>\n",
       "  </tbody>\n",
       "</table>\n",
       "</div>"
      ],
      "text/plain": [
       "                                                                                                                                   text  ... prediction\n",
       "0                                  Sad that i have been gone for a week missing my puppy and tomorrow i have to leave again for a week   ...          0\n",
       "1                                                                                                                 I have a sore throat   ...          0\n",
       "2                                                                          is so extremely tired and dosent want to go to school today   ...          0\n",
       "4                                                                                     @dougiemcfly thanks for the opinion dougie ha ha   ...          1\n",
       "5  @dullyM i would but Ive got a little one who is cheese challenged..    it makes dinners difficult when most of us live off cheese...  ...          0\n",
       "\n",
       "[5 rows x 3 columns]"
      ]
     },
     "execution_count": 10,
     "metadata": {
      "tags": []
     },
     "output_type": "execute_result"
    }
   ],
   "source": [
    "# Filter on binary polarity (negative, positive)\n",
    "data = data[data.prediction != 'neutral']\n",
    "\n",
    "# Replace value of predictions columns\n",
    "data['prediction'] = data['prediction'].replace(['negative', 'positive'],[0,1])\n",
    "\n",
    "print('Nb rows: ', len(data))\n",
    "print('Proportion vs Total sample: {}%'.format(len(data)/len(sample_df)*100))\n",
    "\n",
    "# Display 5 first rows\n",
    "data.head()"
   ]
  },
  {
   "cell_type": "markdown",
   "metadata": {
    "id": "MPnnIUzhu04Y"
   },
   "source": [
    "## <font color=green>P3.3 - Evaluate predictions</font>"
   ]
  },
  {
   "cell_type": "code",
   "execution_count": 11,
   "metadata": {
    "colab": {
     "base_uri": "https://localhost:8080/",
     "height": 80
    },
    "id": "3-z0FaXhu1Yo",
    "outputId": "7429f133-63ae-433f-89fe-4f6d827dce67"
   },
   "outputs": [
    {
     "data": {
      "text/html": [
       "<div>\n",
       "<style scoped>\n",
       "    .dataframe tbody tr th:only-of-type {\n",
       "        vertical-align: middle;\n",
       "    }\n",
       "\n",
       "    .dataframe tbody tr th {\n",
       "        vertical-align: top;\n",
       "    }\n",
       "\n",
       "    .dataframe thead th {\n",
       "        text-align: right;\n",
       "    }\n",
       "</style>\n",
       "<table border=\"1\" class=\"dataframe\">\n",
       "  <thead>\n",
       "    <tr style=\"text-align: right;\">\n",
       "      <th></th>\n",
       "      <th>Model</th>\n",
       "      <th>Predict_time</th>\n",
       "      <th>AUC_Score</th>\n",
       "      <th>Accuracy</th>\n",
       "    </tr>\n",
       "  </thead>\n",
       "  <tbody>\n",
       "    <tr>\n",
       "      <th>0</th>\n",
       "      <td>Original tweets</td>\n",
       "      <td>212.5</td>\n",
       "      <td>71.081%</td>\n",
       "      <td>70.860%</td>\n",
       "    </tr>\n",
       "  </tbody>\n",
       "</table>\n",
       "</div>"
      ],
      "text/plain": [
       "             Model Predict_time AUC_Score Accuracy\n",
       "0  Original tweets        212.5   71.081%  70.860%"
      ]
     },
     "execution_count": 11,
     "metadata": {
      "tags": []
     },
     "output_type": "execute_result"
    }
   ],
   "source": [
    "y_test = data.label.astype(int)\n",
    "y_pred = data.prediction\n",
    "\n",
    "# Create a list to store scores/results\n",
    "scores_model = []\n",
    "\n",
    "# auc\n",
    "fpr, tpr, thresholds = roc_curve(y_test, y_pred, pos_label=1)\n",
    "auc_score = auc(fpr, tpr)\n",
    "# accuracy: (tp + tn) / (p + n)\n",
    "acc = accuracy_score(y_test, y_pred)\n",
    "\n",
    "# Append scores/results\n",
    "scores_model.append({'Model': 'Original tweets',\n",
    "                     'Predict_time':'{:0.1f}'.format(pred_time),\n",
    "                     'AUC_Score':'{:0.3f}%'.format(auc_score*100),\n",
    "                     'Accuracy':'{:0.3f}%'.format(acc*100)})\n",
    "\n",
    "# Save in DF\n",
    "model_results = pd.DataFrame.from_records(scores_model)\n",
    "model_results"
   ]
  },
  {
   "cell_type": "code",
   "execution_count": 12,
   "metadata": {
    "id": "_4tQhNKpvj28"
   },
   "outputs": [],
   "source": [
    "# Save to CSV file\n",
    "model_results.to_csv(src_folder / 'p7_02_model_results.csv')"
   ]
  },
  {
   "cell_type": "markdown",
   "metadata": {
    "id": "W-Kae1ohvuvy"
   },
   "source": [
    "## <font color=green>P3.4 - Plot confusion matrix</font>"
   ]
  },
  {
   "cell_type": "code",
   "execution_count": 13,
   "metadata": {
    "id": "GLlTsHZXvs51"
   },
   "outputs": [],
   "source": [
    "# Create confusion matrix table\n",
    "# normalize='all', 'index' or 'columns'\n",
    "cm = pd.crosstab(index=y_test,\n",
    "                 columns=y_pred,\n",
    "                 values=y_test,\n",
    "                 aggfunc=lambda x:len(x), normalize='index').mul(100)"
   ]
  },
  {
   "cell_type": "code",
   "execution_count": 14,
   "metadata": {
    "colab": {
     "base_uri": "https://localhost:8080/",
     "height": 522
    },
    "id": "4OnJWNVYvs52",
    "outputId": "f70490ad-c961-476c-f67a-b65e994fec7d"
   },
   "outputs": [
    {
     "name": "stdout",
     "output_type": "stream",
     "text": [
      "              precision    recall  f1-score   support\n",
      "\n",
      "           0       0.75      0.66      0.70       327\n",
      "           1       0.67      0.76      0.72       301\n",
      "\n",
      "    accuracy                           0.71       628\n",
      "   macro avg       0.71      0.71      0.71       628\n",
      "weighted avg       0.71      0.71      0.71       628\n",
      "\n"
     ]
    },
    {
     "data": {
      "image/png": "[encoded data removed]",
      "text/plain": [
       "<Figure size 360x360 with 1 Axes>"
      ]
     },
     "metadata": {
      "needs_background": "light",
      "tags": []
     },
     "output_type": "display_data"
    }
   ],
   "source": [
    "# Create classification report\n",
    "cr = classification_report(y_test, y_pred)\n",
    "print(cr)\n",
    "\n",
    "# Set variables\n",
    "title = 'Confusion matrix - Original tweets'\n",
    "\n",
    "# Plot the figure\n",
    "fig, ax0 = plt.subplots(1, 1, figsize=(5, 5))\n",
    "ax = sns.heatmap(cm, annot=True, fmt='.1f', cbar=False, cmap='Blues')\n",
    "for t in ax.texts: t.set_text(t.get_text() + \" %\")\n",
    "ax.xaxis.tick_top() # x axis on top\n",
    "ax.xaxis.set_label_position('top')\n",
    "plt.ylabel('True labels', fontweight='bold')\n",
    "plt.xlabel('Predicted labels', fontweight='bold')\n",
    "plt.title(title, fontsize=16, fontweight='bold')\n",
    "plt.tight_layout()\n",
    "plt.show()"
   ]
  },
  {
   "cell_type": "markdown",
   "metadata": {
    "id": "8xge5rZos-e8"
   },
   "source": [
    "# <font color=salmon>PART 4 - DETECT SENTIMENT WITH CLEANED TWEETS</font>"
   ]
  },
  {
   "cell_type": "markdown",
   "metadata": {
    "id": "S4WLAhwRqS1R"
   },
   "source": [
    "In this part, we will use the **cleaned tweets**.\n",
    "\n",
    "As a remainder, cleaned tweets were pre-processed this way:\n",
    "- lowercasing of the text;\n",
    "- removal of tweet specificity (user mention, hashtag, escaped characters,...);\n",
    "- replacement of English word contraction;\n",
    "- removal of punctuations, numbers special characters."
   ]
  },
  {
   "cell_type": "markdown",
   "metadata": {
    "id": "INdZbDlPiBAU"
   },
   "source": [
    "## <font color=green>P4.1 - Process sentiment detection</font>"
   ]
  },
  {
   "cell_type": "code",
   "execution_count": 15,
   "metadata": {
    "colab": {
     "base_uri": "https://localhost:8080/",
     "height": 204
    },
    "id": "1aRoO0JPt3rQ",
    "outputId": "a10ee2a8-b6af-464b-c28b-b958064df88f"
   },
   "outputs": [
    {
     "data": {
      "text/html": [
       "<div>\n",
       "<style scoped>\n",
       "    .dataframe tbody tr th:only-of-type {\n",
       "        vertical-align: middle;\n",
       "    }\n",
       "\n",
       "    .dataframe tbody tr th {\n",
       "        vertical-align: top;\n",
       "    }\n",
       "\n",
       "    .dataframe thead th {\n",
       "        text-align: right;\n",
       "    }\n",
       "</style>\n",
       "<table border=\"1\" class=\"dataframe\">\n",
       "  <thead>\n",
       "    <tr style=\"text-align: right;\">\n",
       "      <th></th>\n",
       "      <th>text</th>\n",
       "      <th>label</th>\n",
       "      <th>prediction</th>\n",
       "    </tr>\n",
       "  </thead>\n",
       "  <tbody>\n",
       "    <tr>\n",
       "      <th>0</th>\n",
       "      <td>sad that i have been gone for a week missing my puppy and tomorrow i have to leave again for a week</td>\n",
       "      <td>0</td>\n",
       "      <td>negative</td>\n",
       "    </tr>\n",
       "    <tr>\n",
       "      <th>1</th>\n",
       "      <td>i have a sore throat</td>\n",
       "      <td>0</td>\n",
       "      <td>negative</td>\n",
       "    </tr>\n",
       "    <tr>\n",
       "      <th>2</th>\n",
       "      <td>is so extremely tired and dosent want to go to school today</td>\n",
       "      <td>0</td>\n",
       "      <td>negative</td>\n",
       "    </tr>\n",
       "    <tr>\n",
       "      <th>3</th>\n",
       "      <td>user eh up you we are talking saab se estate too had to get a t as insurance would not touch poppet on a t</td>\n",
       "      <td>0</td>\n",
       "      <td>negative</td>\n",
       "    </tr>\n",
       "    <tr>\n",
       "      <th>4</th>\n",
       "      <td>user thanks for the opinion dougie ha ha</td>\n",
       "      <td>0</td>\n",
       "      <td>positive</td>\n",
       "    </tr>\n",
       "  </tbody>\n",
       "</table>\n",
       "</div>"
      ],
      "text/plain": [
       "                                                                                                         text  ... prediction\n",
       "0         sad that i have been gone for a week missing my puppy and tomorrow i have to leave again for a week  ...   negative\n",
       "1                                                                                        i have a sore throat  ...   negative\n",
       "2                                                 is so extremely tired and dosent want to go to school today  ...   negative\n",
       "3  user eh up you we are talking saab se estate too had to get a t as insurance would not touch poppet on a t  ...   negative\n",
       "4                                                                    user thanks for the opinion dougie ha ha  ...   positive\n",
       "\n",
       "[5 rows x 3 columns]"
      ]
     },
     "execution_count": 15,
     "metadata": {
      "tags": []
     },
     "output_type": "execute_result"
    }
   ],
   "source": [
    "data = pd.DataFrame(columns=['text', 'label', 'prediction'])\n",
    "\n",
    "# Process prediction\n",
    "start = time()\n",
    "for index, row in sample_df.iterrows():\n",
    "    data = data.append({'text': row['text_cl'],\n",
    "                        'label': row['sentiment'],\n",
    "                        'prediction': sentiment_analysis(client, row['text_cl'])},\n",
    "                       ignore_index=True)\n",
    "pred_time = (time()-start)\n",
    "\n",
    "# Display 5 first rows\n",
    "data.head()"
   ]
  },
  {
   "cell_type": "code",
   "execution_count": 16,
   "metadata": {
    "id": "etzxvqAcQ32D"
   },
   "outputs": [],
   "source": [
    "# Save to CSV file\n",
    "data.to_csv(src_folder / 'p7_02_api_clean_tweet.csv')"
   ]
  },
  {
   "cell_type": "markdown",
   "metadata": {
    "id": "kNaz0AZnuoes"
   },
   "source": [
    "## <font color=green>P4.2 - Exclude neutral predictions</font>"
   ]
  },
  {
   "cell_type": "code",
   "execution_count": 17,
   "metadata": {
    "colab": {
     "base_uri": "https://localhost:8080/",
     "height": 238
    },
    "id": "MBuTGY6vRrGM",
    "outputId": "23874caa-e93c-4803-9778-bceb44bd089f"
   },
   "outputs": [
    {
     "name": "stdout",
     "output_type": "stream",
     "text": [
      "Nb rows:  675\n",
      "Proportion vs Total sample: 67.5%\n"
     ]
    },
    {
     "data": {
      "text/html": [
       "<div>\n",
       "<style scoped>\n",
       "    .dataframe tbody tr th:only-of-type {\n",
       "        vertical-align: middle;\n",
       "    }\n",
       "\n",
       "    .dataframe tbody tr th {\n",
       "        vertical-align: top;\n",
       "    }\n",
       "\n",
       "    .dataframe thead th {\n",
       "        text-align: right;\n",
       "    }\n",
       "</style>\n",
       "<table border=\"1\" class=\"dataframe\">\n",
       "  <thead>\n",
       "    <tr style=\"text-align: right;\">\n",
       "      <th></th>\n",
       "      <th>text</th>\n",
       "      <th>label</th>\n",
       "      <th>prediction</th>\n",
       "    </tr>\n",
       "  </thead>\n",
       "  <tbody>\n",
       "    <tr>\n",
       "      <th>0</th>\n",
       "      <td>sad that i have been gone for a week missing my puppy and tomorrow i have to leave again for a week</td>\n",
       "      <td>0</td>\n",
       "      <td>0</td>\n",
       "    </tr>\n",
       "    <tr>\n",
       "      <th>1</th>\n",
       "      <td>i have a sore throat</td>\n",
       "      <td>0</td>\n",
       "      <td>0</td>\n",
       "    </tr>\n",
       "    <tr>\n",
       "      <th>2</th>\n",
       "      <td>is so extremely tired and dosent want to go to school today</td>\n",
       "      <td>0</td>\n",
       "      <td>0</td>\n",
       "    </tr>\n",
       "    <tr>\n",
       "      <th>3</th>\n",
       "      <td>user eh up you we are talking saab se estate too had to get a t as insurance would not touch poppet on a t</td>\n",
       "      <td>0</td>\n",
       "      <td>0</td>\n",
       "    </tr>\n",
       "    <tr>\n",
       "      <th>4</th>\n",
       "      <td>user thanks for the opinion dougie ha ha</td>\n",
       "      <td>0</td>\n",
       "      <td>1</td>\n",
       "    </tr>\n",
       "  </tbody>\n",
       "</table>\n",
       "</div>"
      ],
      "text/plain": [
       "                                                                                                         text  ... prediction\n",
       "0         sad that i have been gone for a week missing my puppy and tomorrow i have to leave again for a week  ...          0\n",
       "1                                                                                        i have a sore throat  ...          0\n",
       "2                                                 is so extremely tired and dosent want to go to school today  ...          0\n",
       "3  user eh up you we are talking saab se estate too had to get a t as insurance would not touch poppet on a t  ...          0\n",
       "4                                                                    user thanks for the opinion dougie ha ha  ...          1\n",
       "\n",
       "[5 rows x 3 columns]"
      ]
     },
     "execution_count": 17,
     "metadata": {
      "tags": []
     },
     "output_type": "execute_result"
    }
   ],
   "source": [
    "# Filter on binary polarity (negative, positive)\n",
    "data = data[data.prediction != 'neutral']\n",
    "\n",
    "# Replace value of predictions columns\n",
    "data['prediction'] = data['prediction'].replace(['negative', 'positive'],[0,1])\n",
    "\n",
    "print('Nb rows: ', len(data))\n",
    "print('Proportion vs Total sample: {}%'.format(len(data)/len(sample_df)*100))\n",
    "\n",
    "# Display 5 first rows\n",
    "data.head()"
   ]
  },
  {
   "cell_type": "markdown",
   "metadata": {
    "id": "fVVgn1kPvAHz"
   },
   "source": [
    "## <font color=green>P4.3 - Evaluate predictions</font>"
   ]
  },
  {
   "cell_type": "code",
   "execution_count": 18,
   "metadata": {
    "colab": {
     "base_uri": "https://localhost:8080/",
     "height": 111
    },
    "id": "Um0PziRPZsoU",
    "outputId": "2000580e-eb7c-49d0-8a38-b0520f9a37c6"
   },
   "outputs": [
    {
     "data": {
      "text/html": [
       "<div>\n",
       "<style scoped>\n",
       "    .dataframe tbody tr th:only-of-type {\n",
       "        vertical-align: middle;\n",
       "    }\n",
       "\n",
       "    .dataframe tbody tr th {\n",
       "        vertical-align: top;\n",
       "    }\n",
       "\n",
       "    .dataframe thead th {\n",
       "        text-align: right;\n",
       "    }\n",
       "</style>\n",
       "<table border=\"1\" class=\"dataframe\">\n",
       "  <thead>\n",
       "    <tr style=\"text-align: right;\">\n",
       "      <th></th>\n",
       "      <th>Model</th>\n",
       "      <th>Predict_time</th>\n",
       "      <th>AUC_Score</th>\n",
       "      <th>Accuracy</th>\n",
       "    </tr>\n",
       "  </thead>\n",
       "  <tbody>\n",
       "    <tr>\n",
       "      <th>0</th>\n",
       "      <td>Original tweets</td>\n",
       "      <td>212.5</td>\n",
       "      <td>71.081%</td>\n",
       "      <td>70.860%</td>\n",
       "    </tr>\n",
       "    <tr>\n",
       "      <th>1</th>\n",
       "      <td>Cleaned tweets</td>\n",
       "      <td>197.2</td>\n",
       "      <td>76.187%</td>\n",
       "      <td>76.148%</td>\n",
       "    </tr>\n",
       "  </tbody>\n",
       "</table>\n",
       "</div>"
      ],
      "text/plain": [
       "             Model Predict_time AUC_Score Accuracy\n",
       "0  Original tweets        212.5   71.081%  70.860%\n",
       "1   Cleaned tweets        197.2   76.187%  76.148%"
      ]
     },
     "execution_count": 18,
     "metadata": {
      "tags": []
     },
     "output_type": "execute_result"
    }
   ],
   "source": [
    "y_test = data.label.astype(int)\n",
    "y_pred = data.prediction\n",
    "\n",
    "# auc\n",
    "fpr, tpr, thresholds = roc_curve(y_test, y_pred, pos_label=1)\n",
    "auc_score = auc(fpr, tpr)\n",
    "# accuracy: (tp + tn) / (p + n)\n",
    "acc = accuracy_score(y_test, y_pred)\n",
    "\n",
    "# Append scores/results\n",
    "# Append scores/results\n",
    "model_results = model_results.append({'Model': 'Cleaned tweets',\n",
    "                                      'Predict_time':'{:0.1f}'.format(pred_time),\n",
    "                                      'AUC_Score':'{:0.3f}%'.format(auc_score*100),\n",
    "                                      'Accuracy':'{:0.3f}%'.format(acc*100)},\n",
    "                                     ignore_index=True)\n",
    "model_results\n",
    "model_results"
   ]
  },
  {
   "cell_type": "code",
   "execution_count": 19,
   "metadata": {
    "id": "5-fLhIixm0xc"
   },
   "outputs": [],
   "source": [
    "# Save to CSV file\n",
    "model_results.to_csv(src_folder / 'p7_02_model_results.csv')"
   ]
  },
  {
   "cell_type": "markdown",
   "metadata": {
    "id": "O7YPLyOIv0Ve"
   },
   "source": [
    "## <font color=green>P4.4 - Plot confusion matrix</font>"
   ]
  },
  {
   "cell_type": "code",
   "execution_count": 20,
   "metadata": {
    "id": "fVm6yh02le0b"
   },
   "outputs": [],
   "source": [
    "# Create confusion matrix table\n",
    "# normalize='all', 'index' or 'columns'\n",
    "cm = pd.crosstab(index=y_test,\n",
    "                 columns=y_pred,\n",
    "                 values=y_test,\n",
    "                 aggfunc=lambda x:len(x), normalize='index').mul(100)"
   ]
  },
  {
   "cell_type": "code",
   "execution_count": 21,
   "metadata": {
    "colab": {
     "base_uri": "https://localhost:8080/",
     "height": 522
    },
    "id": "V9OOHrS0lw50",
    "outputId": "5bfcece8-bfd3-417a-da6a-d2512bb17dff"
   },
   "outputs": [
    {
     "name": "stdout",
     "output_type": "stream",
     "text": [
      "              precision    recall  f1-score   support\n",
      "\n",
      "           0       0.78      0.75      0.77       351\n",
      "           1       0.74      0.77      0.76       324\n",
      "\n",
      "    accuracy                           0.76       675\n",
      "   macro avg       0.76      0.76      0.76       675\n",
      "weighted avg       0.76      0.76      0.76       675\n",
      "\n"
     ]
    },
    {
     "data": {
      "image/png": "[encoded data removed]",
      "text/plain": [
       "<Figure size 360x360 with 1 Axes>"
      ]
     },
     "metadata": {
      "needs_background": "light",
      "tags": []
     },
     "output_type": "display_data"
    }
   ],
   "source": [
    "# Create classification report\n",
    "cr = classification_report(y_test, y_pred)\n",
    "print(cr)\n",
    "\n",
    "# Set variables\n",
    "title = 'Confusion matrix - Cleaned tweets'\n",
    "\n",
    "# Plot the figure\n",
    "fig, ax0 = plt.subplots(1, 1, figsize=(5, 5))\n",
    "ax = sns.heatmap(cm, annot=True, fmt='.1f', cbar=False, cmap='Blues')\n",
    "for t in ax.texts: t.set_text(t.get_text() + \" %\")\n",
    "ax.xaxis.tick_top() # x axis on top\n",
    "ax.xaxis.set_label_position('top')\n",
    "plt.ylabel('True labels', fontweight='bold')\n",
    "plt.xlabel('Predicted labels', fontweight='bold')\n",
    "plt.title(title, fontsize=16, fontweight='bold')\n",
    "plt.tight_layout()\n",
    "plt.show()"
   ]
  },
  {
   "cell_type": "markdown",
   "metadata": {
    "id": "lSUPwpkys1xB"
   },
   "source": [
    "# <font color=salmon>PART 5 - DETECT SENTIMENT WITH LEMMATIZED TWEETS</font>"
   ]
  },
  {
   "cell_type": "markdown",
   "metadata": {
    "id": "ptktzQmMrweD"
   },
   "source": [
    "In this part, we will use the **lemmatized tweets**.\n",
    "\n",
    "NLTK library globaly changes plural to singular, but do not change am/was to root verb \"be\".\n",
    "\n",
    "Besides, lemmatized tweets DO NOT contain common stopwords from NLTK tool."
   ]
  },
  {
   "cell_type": "markdown",
   "metadata": {
    "id": "3ibK9SdUavtR"
   },
   "source": [
    "## <font color=green>P5.1 - Process sentiment detection</font>"
   ]
  },
  {
   "cell_type": "code",
   "execution_count": 22,
   "metadata": {
    "colab": {
     "base_uri": "https://localhost:8080/",
     "height": 204
    },
    "id": "oDo5ukDmQs5S",
    "outputId": "b51e2e19-c522-4fdf-8f5e-de8c3be7700e"
   },
   "outputs": [
    {
     "data": {
      "text/html": [
       "<div>\n",
       "<style scoped>\n",
       "    .dataframe tbody tr th:only-of-type {\n",
       "        vertical-align: middle;\n",
       "    }\n",
       "\n",
       "    .dataframe tbody tr th {\n",
       "        vertical-align: top;\n",
       "    }\n",
       "\n",
       "    .dataframe thead th {\n",
       "        text-align: right;\n",
       "    }\n",
       "</style>\n",
       "<table border=\"1\" class=\"dataframe\">\n",
       "  <thead>\n",
       "    <tr style=\"text-align: right;\">\n",
       "      <th></th>\n",
       "      <th>text</th>\n",
       "      <th>label</th>\n",
       "      <th>prediction</th>\n",
       "    </tr>\n",
       "  </thead>\n",
       "  <tbody>\n",
       "    <tr>\n",
       "      <th>0</th>\n",
       "      <td>sad gone week missing puppy tomorrow leave week</td>\n",
       "      <td>0</td>\n",
       "      <td>negative</td>\n",
       "    </tr>\n",
       "    <tr>\n",
       "      <th>1</th>\n",
       "      <td>sore throat</td>\n",
       "      <td>0</td>\n",
       "      <td>negative</td>\n",
       "    </tr>\n",
       "    <tr>\n",
       "      <th>2</th>\n",
       "      <td>extremely tired dosent want go school today</td>\n",
       "      <td>0</td>\n",
       "      <td>negative</td>\n",
       "    </tr>\n",
       "    <tr>\n",
       "      <th>3</th>\n",
       "      <td>user eh talking saab se estate get insurance not touch poppet</td>\n",
       "      <td>0</td>\n",
       "      <td>neutral</td>\n",
       "    </tr>\n",
       "    <tr>\n",
       "      <th>4</th>\n",
       "      <td>user thanks opinion dougie ha ha</td>\n",
       "      <td>0</td>\n",
       "      <td>positive</td>\n",
       "    </tr>\n",
       "  </tbody>\n",
       "</table>\n",
       "</div>"
      ],
      "text/plain": [
       "                                                            text  ... prediction\n",
       "0                sad gone week missing puppy tomorrow leave week  ...   negative\n",
       "1                                                    sore throat  ...   negative\n",
       "2                    extremely tired dosent want go school today  ...   negative\n",
       "3  user eh talking saab se estate get insurance not touch poppet  ...    neutral\n",
       "4                               user thanks opinion dougie ha ha  ...   positive\n",
       "\n",
       "[5 rows x 3 columns]"
      ]
     },
     "execution_count": 22,
     "metadata": {
      "tags": []
     },
     "output_type": "execute_result"
    }
   ],
   "source": [
    "data = pd.DataFrame(columns=['text', 'label', 'prediction'])\n",
    "\n",
    "# Process prediction\n",
    "start = time()\n",
    "for index, row in sample_df.iterrows():\n",
    "    data = data.append({'text': row['text_lm'],\n",
    "                        'label': row['sentiment'],\n",
    "                        'prediction': sentiment_analysis(client, row['text_lm'])},\n",
    "                       ignore_index=True)\n",
    "pred_time = (time()-start)\n",
    "\n",
    "# Display 5 first rows\n",
    "data.head()"
   ]
  },
  {
   "cell_type": "code",
   "execution_count": 23,
   "metadata": {
    "id": "aMoKD_l0gHyc"
   },
   "outputs": [],
   "source": [
    "# Save to CSV file\n",
    "data.to_csv(src_folder / 'p7_02_api_lemma_tweet.csv')"
   ]
  },
  {
   "cell_type": "markdown",
   "metadata": {
    "id": "IINP1zllurV8"
   },
   "source": [
    "## <font color=green>P5.2 - Exclude neutral predictions</font>"
   ]
  },
  {
   "cell_type": "code",
   "execution_count": 24,
   "metadata": {
    "colab": {
     "base_uri": "https://localhost:8080/",
     "height": 238
    },
    "id": "Hi75WACpgRRu",
    "outputId": "491b3645-5cd0-4f14-bedc-e057a8214e0d"
   },
   "outputs": [
    {
     "name": "stdout",
     "output_type": "stream",
     "text": [
      "Nb rows:  682\n",
      "Proportion vs Total sample: 68.2%\n"
     ]
    },
    {
     "data": {
      "text/html": [
       "<div>\n",
       "<style scoped>\n",
       "    .dataframe tbody tr th:only-of-type {\n",
       "        vertical-align: middle;\n",
       "    }\n",
       "\n",
       "    .dataframe tbody tr th {\n",
       "        vertical-align: top;\n",
       "    }\n",
       "\n",
       "    .dataframe thead th {\n",
       "        text-align: right;\n",
       "    }\n",
       "</style>\n",
       "<table border=\"1\" class=\"dataframe\">\n",
       "  <thead>\n",
       "    <tr style=\"text-align: right;\">\n",
       "      <th></th>\n",
       "      <th>text</th>\n",
       "      <th>label</th>\n",
       "      <th>prediction</th>\n",
       "    </tr>\n",
       "  </thead>\n",
       "  <tbody>\n",
       "    <tr>\n",
       "      <th>0</th>\n",
       "      <td>sad gone week missing puppy tomorrow leave week</td>\n",
       "      <td>0</td>\n",
       "      <td>0</td>\n",
       "    </tr>\n",
       "    <tr>\n",
       "      <th>1</th>\n",
       "      <td>sore throat</td>\n",
       "      <td>0</td>\n",
       "      <td>0</td>\n",
       "    </tr>\n",
       "    <tr>\n",
       "      <th>2</th>\n",
       "      <td>extremely tired dosent want go school today</td>\n",
       "      <td>0</td>\n",
       "      <td>0</td>\n",
       "    </tr>\n",
       "    <tr>\n",
       "      <th>4</th>\n",
       "      <td>user thanks opinion dougie ha ha</td>\n",
       "      <td>0</td>\n",
       "      <td>1</td>\n",
       "    </tr>\n",
       "    <tr>\n",
       "      <th>5</th>\n",
       "      <td>user got little one cheese challenged make dinner difficult live cheese</td>\n",
       "      <td>0</td>\n",
       "      <td>0</td>\n",
       "    </tr>\n",
       "  </tbody>\n",
       "</table>\n",
       "</div>"
      ],
      "text/plain": [
       "                                                                      text  ... prediction\n",
       "0                          sad gone week missing puppy tomorrow leave week  ...          0\n",
       "1                                                              sore throat  ...          0\n",
       "2                              extremely tired dosent want go school today  ...          0\n",
       "4                                         user thanks opinion dougie ha ha  ...          1\n",
       "5  user got little one cheese challenged make dinner difficult live cheese  ...          0\n",
       "\n",
       "[5 rows x 3 columns]"
      ]
     },
     "execution_count": 24,
     "metadata": {
      "tags": []
     },
     "output_type": "execute_result"
    }
   ],
   "source": [
    "# Filter on binary polarity (negative, positive)\n",
    "data = data[data.prediction != 'neutral']\n",
    "\n",
    "# Replace value of predictions columns\n",
    "data['prediction'] = data['prediction'].replace(['negative', 'positive'],[0,1])\n",
    "\n",
    "print('Nb rows: ', len(data))\n",
    "print('Proportion vs Total sample: {}%'.format(len(data)/len(sample_df)*100))\n",
    "\n",
    "# Display 5 first rows\n",
    "data.head()"
   ]
  },
  {
   "cell_type": "markdown",
   "metadata": {
    "id": "UPVDVkNRvHl_"
   },
   "source": [
    "## <font color=green>P5.3 - Evaluate predictions</font>"
   ]
  },
  {
   "cell_type": "code",
   "execution_count": 25,
   "metadata": {
    "colab": {
     "base_uri": "https://localhost:8080/",
     "height": 142
    },
    "id": "bR_XLb9xgdG0",
    "outputId": "8319e1bc-84e3-42fa-93c8-671775d492f3"
   },
   "outputs": [
    {
     "data": {
      "text/html": [
       "<div>\n",
       "<style scoped>\n",
       "    .dataframe tbody tr th:only-of-type {\n",
       "        vertical-align: middle;\n",
       "    }\n",
       "\n",
       "    .dataframe tbody tr th {\n",
       "        vertical-align: top;\n",
       "    }\n",
       "\n",
       "    .dataframe thead th {\n",
       "        text-align: right;\n",
       "    }\n",
       "</style>\n",
       "<table border=\"1\" class=\"dataframe\">\n",
       "  <thead>\n",
       "    <tr style=\"text-align: right;\">\n",
       "      <th></th>\n",
       "      <th>Model</th>\n",
       "      <th>Predict_time</th>\n",
       "      <th>AUC_Score</th>\n",
       "      <th>Accuracy</th>\n",
       "    </tr>\n",
       "  </thead>\n",
       "  <tbody>\n",
       "    <tr>\n",
       "      <th>0</th>\n",
       "      <td>Original tweets</td>\n",
       "      <td>212.5</td>\n",
       "      <td>71.081%</td>\n",
       "      <td>70.860%</td>\n",
       "    </tr>\n",
       "    <tr>\n",
       "      <th>1</th>\n",
       "      <td>Cleaned tweets</td>\n",
       "      <td>197.2</td>\n",
       "      <td>76.187%</td>\n",
       "      <td>76.148%</td>\n",
       "    </tr>\n",
       "    <tr>\n",
       "      <th>2</th>\n",
       "      <td>Lemmatized tweets</td>\n",
       "      <td>198.2</td>\n",
       "      <td>74.595%</td>\n",
       "      <td>74.633%</td>\n",
       "    </tr>\n",
       "  </tbody>\n",
       "</table>\n",
       "</div>"
      ],
      "text/plain": [
       "               Model Predict_time AUC_Score Accuracy\n",
       "0    Original tweets        212.5   71.081%  70.860%\n",
       "1     Cleaned tweets        197.2   76.187%  76.148%\n",
       "2  Lemmatized tweets        198.2   74.595%  74.633%"
      ]
     },
     "execution_count": 25,
     "metadata": {
      "tags": []
     },
     "output_type": "execute_result"
    }
   ],
   "source": [
    "y_test = data.label.astype(int)\n",
    "y_pred = data.prediction\n",
    "\n",
    "# auc\n",
    "fpr, tpr, thresholds = roc_curve(y_test, y_pred, pos_label=1)\n",
    "auc_score = auc(fpr, tpr)\n",
    "# accuracy: (tp + tn) / (p + n)\n",
    "acc = accuracy_score(y_test, y_pred)\n",
    "\n",
    "# Append scores/results\n",
    "model_results = model_results.append({'Model': 'Lemmatized tweets',\n",
    "                                      'Predict_time':'{:0.1f}'.format(pred_time),\n",
    "                                      'AUC_Score':'{:0.3f}%'.format(auc_score*100),\n",
    "                                      'Accuracy':'{:0.3f}%'.format(acc*100)},\n",
    "                                     ignore_index=True)\n",
    "model_results"
   ]
  },
  {
   "cell_type": "code",
   "execution_count": 26,
   "metadata": {
    "id": "YK1KqZW4ot-Z"
   },
   "outputs": [],
   "source": [
    "# Save to CSV file\n",
    "model_results.to_csv(src_folder / 'p7_02_model_results.csv')"
   ]
  },
  {
   "cell_type": "markdown",
   "metadata": {
    "id": "J9uBIN8av6IY"
   },
   "source": [
    "## <font color=green>P5.4 - Plot confusion matrix</font>"
   ]
  },
  {
   "cell_type": "code",
   "execution_count": 27,
   "metadata": {
    "id": "u1Jgwme4oxV_"
   },
   "outputs": [],
   "source": [
    "# Create confusion matrix table\n",
    "# normalize='all', 'index' or 'columns'\n",
    "cm = pd.crosstab(index=y_test,\n",
    "                 columns=y_pred,\n",
    "                 values=y_test,\n",
    "                 aggfunc=lambda x:len(x), normalize='index').mul(100)"
   ]
  },
  {
   "cell_type": "code",
   "execution_count": 28,
   "metadata": {
    "colab": {
     "base_uri": "https://localhost:8080/",
     "height": 522
    },
    "id": "O24SNmhCo0Yp",
    "outputId": "349cefee-2c81-49fc-d606-07c33ddff582"
   },
   "outputs": [
    {
     "name": "stdout",
     "output_type": "stream",
     "text": [
      "              precision    recall  f1-score   support\n",
      "\n",
      "           0       0.76      0.75      0.76       360\n",
      "           1       0.73      0.74      0.73       322\n",
      "\n",
      "    accuracy                           0.75       682\n",
      "   macro avg       0.75      0.75      0.75       682\n",
      "weighted avg       0.75      0.75      0.75       682\n",
      "\n"
     ]
    },
    {
     "data": {
      "image/png": "[encoded data removed]",
      "text/plain": [
       "<Figure size 360x360 with 1 Axes>"
      ]
     },
     "metadata": {
      "needs_background": "light",
      "tags": []
     },
     "output_type": "display_data"
    }
   ],
   "source": [
    "# Create classification report\n",
    "cr = classification_report(y_test, y_pred)\n",
    "print(cr)\n",
    "\n",
    "# Set variables\n",
    "title = 'Confusion matrix - Lemmatized tweets'\n",
    "\n",
    "# Plot the figure\n",
    "fig, ax0 = plt.subplots(1, 1, figsize=(5, 5))\n",
    "ax = sns.heatmap(cm, annot=True, fmt='.1f', cbar=False, cmap='Blues')\n",
    "for t in ax.texts: t.set_text(t.get_text() + \" %\")\n",
    "ax.xaxis.tick_top() # x axis on top\n",
    "ax.xaxis.set_label_position('top')\n",
    "plt.ylabel('True labels', fontweight='bold')\n",
    "plt.xlabel('Predicted labels', fontweight='bold')\n",
    "plt.title(title, fontsize=16, fontweight='bold')\n",
    "plt.tight_layout()\n",
    "plt.show()"
   ]
  },
  {
   "cell_type": "markdown",
   "metadata": {
    "id": "rsyckIYeO28O"
   },
   "source": [
    "# <font color=salmon>SUMMARY AND CONCLUSION</font>"
   ]
  },
  {
   "cell_type": "markdown",
   "metadata": {
    "id": "toKl6Gj_qGnl"
   },
   "source": [
    "Here are the final results!"
   ]
  },
  {
   "cell_type": "code",
   "execution_count": 29,
   "metadata": {
    "colab": {
     "base_uri": "https://localhost:8080/",
     "height": 142
    },
    "id": "sWYvIuZYjbQ_",
    "outputId": "9eafc23e-1d91-4025-911f-1bc7a9e06952"
   },
   "outputs": [
    {
     "data": {
      "text/html": [
       "<div>\n",
       "<style scoped>\n",
       "    .dataframe tbody tr th:only-of-type {\n",
       "        vertical-align: middle;\n",
       "    }\n",
       "\n",
       "    .dataframe tbody tr th {\n",
       "        vertical-align: top;\n",
       "    }\n",
       "\n",
       "    .dataframe thead th {\n",
       "        text-align: right;\n",
       "    }\n",
       "</style>\n",
       "<table border=\"1\" class=\"dataframe\">\n",
       "  <thead>\n",
       "    <tr style=\"text-align: right;\">\n",
       "      <th></th>\n",
       "      <th>Unnamed: 0</th>\n",
       "      <th>Model</th>\n",
       "      <th>Predict_time</th>\n",
       "      <th>AUC_Score</th>\n",
       "      <th>Accuracy</th>\n",
       "    </tr>\n",
       "  </thead>\n",
       "  <tbody>\n",
       "    <tr>\n",
       "      <th>0</th>\n",
       "      <td>0</td>\n",
       "      <td>Original tweets</td>\n",
       "      <td>212.5</td>\n",
       "      <td>71.081%</td>\n",
       "      <td>70.860%</td>\n",
       "    </tr>\n",
       "    <tr>\n",
       "      <th>1</th>\n",
       "      <td>1</td>\n",
       "      <td>Cleaned tweets</td>\n",
       "      <td>197.2</td>\n",
       "      <td>76.187%</td>\n",
       "      <td>76.148%</td>\n",
       "    </tr>\n",
       "    <tr>\n",
       "      <th>2</th>\n",
       "      <td>2</td>\n",
       "      <td>Lemmatized tweets</td>\n",
       "      <td>198.2</td>\n",
       "      <td>74.595%</td>\n",
       "      <td>74.633%</td>\n",
       "    </tr>\n",
       "  </tbody>\n",
       "</table>\n",
       "</div>"
      ],
      "text/plain": [
       "   Unnamed: 0              Model  Predict_time AUC_Score Accuracy\n",
       "0           0    Original tweets         212.5   71.081%  70.860%\n",
       "1           1     Cleaned tweets         197.2   76.187%  76.148%\n",
       "2           2  Lemmatized tweets         198.2   74.595%  74.633%"
      ]
     },
     "execution_count": 29,
     "metadata": {
      "tags": []
     },
     "output_type": "execute_result"
    }
   ],
   "source": [
    "# Load result\n",
    "results = pd.read_csv(src_folder / 'p7_02_model_results.csv')\n",
    "results"
   ]
  },
  {
   "cell_type": "markdown",
   "metadata": {
    "id": "Kp6RFsn1RQlH"
   },
   "source": [
    "We have applied the Microsoft Azure Sentiment API to our data, with different text states: not preprocessed at all, cleaned, fully preprocessed.\n",
    "\n",
    "We have observed that in Version 3 of the API, the polarity of the sentiment comes with 3 labels: positive, negative, neutral. For consistency purpose, and to be able to compare apple to apple, we have excluded the neutral predictions. This leads a reduced size of sample around 65%. \n",
    "\n",
    "**Our best result comes from the cleaned tweets, with 76,19% AUC and Accuracy 76,15%**.\n",
    "\n",
    "But one question could be raised: could a greater size of samples have led to better result ? Who knows..."
   ]
  }
 ],
 "metadata": {
  "colab": {
   "collapsed_sections": [],
   "machine_shape": "hm",
   "name": "P7_02_azure_sentiment_api.ipynb",
   "provenance": [],
   "toc_visible": true
  },
  "kernelspec": {
   "display_name": "Python 3",
   "language": "python",
   "name": "python3"
  },
  "language_info": {
   "codemirror_mode": {
    "name": "ipython",
    "version": 3
   },
   "file_extension": ".py",
   "mimetype": "text/x-python",
   "name": "python",
   "nbconvert_exporter": "python",
   "pygments_lexer": "ipython3",
   "version": "3.8.5"
  }
 },
 "nbformat": 4,
 "nbformat_minor": 1
}
