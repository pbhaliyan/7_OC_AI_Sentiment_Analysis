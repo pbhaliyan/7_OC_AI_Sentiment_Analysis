{
 "cells": [
  {
   "cell_type": "markdown",
   "source": [
    "**Author** : V.Joan Aléonard<br>\n",
    "**Last update** :  7 May 2021<br>\n",
    "**OC English path** : https://openclassrooms.com/fr/paths/167-ai-engineer#path-tabs<br>\n",
    "**OC French path** : https://openclassrooms.com/fr/paths/188-ingenieur-ia#path-tabs<br>\n",
    "**Title** : **Use Deep Learning to detect Bad Buzz**"
   ],
   "metadata": {
    "id": "ALGttKFQi2qM"
   }
  },
  {
   "cell_type": "markdown",
   "source": [
    "![air-paradis](https://drive.google.com/uc?id=1T26mpOAUvJP700W4m8bjfYCLmDYVcyJL)"
   ],
   "metadata": {
    "id": "7r1NRwMijJBb"
   }
  },
  {
   "cell_type": "markdown",
   "source": [
    "# <font color=red><center>**AIR PARADIS**</center></font>"
   ],
   "metadata": {
    "id": "Fqh3GAGXjMoA"
   }
  },
  {
   "cell_type": "markdown",
   "source": [
    "**Air Paradis** is an airline company that wants to use AI (*Artificial Intelligence*) to **detect Bad Buzz associated with its brand** in online public tweets.\n",
    "\n",
    "**As AI engineer for Marketing Intelligence Consulting**, we will dive into **NLP** (*Natural Language Processing*) techniques to serve Air Paradis' purpose.\n",
    "\n",
    "Indeed, NLP allows a machine to **understand and process human language**. It will help us to solve this **text classification goal** and **detect sentiment** (positive or negative) from these tweets.\n",
    "\n",
    "We will deploy our best **DETECT SENTIMENT solution** through <font color=salmon>**Microsoft Azure Machine Learning plateform**</font> (***MS Azure ML***).\n",
    "\n",
    "<br>\n",
    "\n",
    "Therefore, we will structure the project as follows:\n",
    "\n",
    "<br>\n",
    "\n",
    "| **Services / Tools** | **Objective** | **Available notebook** |\n",
    "| :-- | :-- | :-- |\n",
    "| **Google Colab and Python libraries** | Build quality of data by pre-processing the tweets text | Notebook N°1 |\n",
    "| **Google Colab / MS Azure Cognitive Services API** | Use Text Analytics > Sentiment API | Notebook N°2 |\n",
    "| **Python Script / MS Azure ML Studio > Designer** | Use \"Drag-and-Drop\" pipeline with no code in Azure ML Studio| Notebook N°3 |\n",
    "| **Tensorflow-Keras / Google Colab PRO with GPU/TPU** | Train and evaluate advanced models | Notebook N°4 |\n",
    "|**MS Azure ML Cloud > Models**| Deploy the best solution in MS Azure WebService | **<font color=green>Notebook N°5</font>** |\n",
    "\n",
    "<br>\n",
    "\n",
    "This notebook is dedicated to 5th task : **deploy our best model as a web service in the Azure cloud for Air Paradis**."
   ],
   "metadata": {
    "id": "Yt1K2AdCjObl"
   }
  },
  {
   "cell_type": "markdown",
   "source": [
    "# <font color=brown><center>**NOTEBOOK 5<br>MODEL DEPLOYEMENT AS WEB SERVICE<br>AZURE CLOUD**</center></font>"
   ],
   "metadata": {
    "id": "NPxWN6Z-k9uQ"
   }
  },
  {
   "cell_type": "markdown",
   "source": [
    "The **workflow** is as follows:\n",
    "- Register the model;\n",
    "- Prepare an entry script;\n",
    "- Prepare an inference configuration;\n",
    "- Prepare a deployment configuration;\n",
    "- Deploy the model;\n",
    "- Test the resulting web service.\n",
    "\n",
    "The details are available on MS Azure ML page [here](https://docs.microsoft.com/fr-fr/azure/machine-learning/how-to-deploy-and-where?tabs=python).\n",
    "\n",
    "***Prerequisites***:\n",
    "- Azure Machine Learning workspace;\n",
    "- Azure Machine Learning SDK for Python (Software Development Kit);\n",
    "- A folder with model (and tokenizer file for our case);\n",
    "- A requirement.text for pip or Conda Dependencies."
   ],
   "metadata": {
    "id": "RXU3gDyPvoXN"
   }
  },
  {
   "cell_type": "markdown",
   "source": [
    "# <font color=salmon>INSTALL AZURE ML SDK</font>"
   ],
   "metadata": {
    "id": "AjaPrCwQwT39"
   }
  },
  {
   "cell_type": "markdown",
   "source": [
    "First, we install the **Azure ML SDK (*Software Development Kit*)** for Python.\n",
    "\n",
    "The Azure ML SDK for Python is used by data scientists and AI developers to build and run machine learning workflows upon the Azure Machine Learning service.\n",
    "\n",
    "We can interact with the service in any Python environment (Jupyter Notebooks, Google Colab or any Python IDE)."
   ],
   "metadata": {
    "id": "K71yG6BPHkJH"
   }
  },
  {
   "cell_type": "code",
   "execution_count": 1,
   "source": [
    "from IPython.display import clear_output\r\n",
    "\r\n",
    "# Install azure ml SDK\r\n",
    "!pip install azureml-core\r\n",
    "\r\n",
    "clear_output()"
   ],
   "outputs": [],
   "metadata": {
    "id": "73jq5GP47Y5c"
   }
  },
  {
   "cell_type": "code",
   "execution_count": 2,
   "source": [
    "import azureml.core\r\n",
    "\r\n",
    "# Check core SDK version number\r\n",
    "print(\"Azure ML SDK Version: \", azureml.core.VERSION)"
   ],
   "outputs": [
    {
     "output_type": "stream",
     "name": "stdout",
     "text": [
      "Azure ML SDK Version:  1.27.0\n"
     ]
    }
   ],
   "metadata": {
    "colab": {
     "base_uri": "https://localhost:8080/"
    },
    "id": "VpHj0eKwVYpG",
    "outputId": "22f606ba-f1dd-4f0a-b48d-39573c1d8c5d"
   }
  },
  {
   "cell_type": "markdown",
   "source": [
    "# <font color=salmon>CONNECT TO WORKPLACE</font>"
   ],
   "metadata": {
    "id": "Sy25zahlOLiX"
   }
  },
  {
   "cell_type": "markdown",
   "source": [
    "The **Workspace** is the top-level resource in Azure Machine Learning.\n",
    "\n",
    "It allows to manage machine learning artifacts like environments, data stores, models, experiments or compute targets.\n",
    "\n",
    "The workspace is tied to an Azure subscription and resource group, and supports region affinity."
   ],
   "metadata": {
    "id": "XOxpj8T0O_zD"
   }
  },
  {
   "cell_type": "code",
   "execution_count": 3,
   "source": [
    "from azureml.core import Workspace\r\n",
    "\r\n",
    "# Connect to workspace\r\n",
    "ws = Workspace.from_config('/content/drive/MyDrive/OC_IA/P07/p7_05_ws_config.json')"
   ],
   "outputs": [
    {
     "output_type": "stream",
     "name": "stdout",
     "text": [
      "Performing interactive authentication. Please follow the instructions on the terminal.\n",
      "To sign in, use a web browser to open the page https://microsoft.com/devicelogin and enter the code F7UPDF6D2 to authenticate.\n",
      "You have logged in. Now let us find all the subscriptions to which you have access...\n",
      "Interactive authentication successfully completed.\n"
     ]
    }
   ],
   "metadata": {
    "colab": {
     "base_uri": "https://localhost:8080/"
    },
    "id": "0VwgV9EA2_3z",
    "outputId": "075d4629-ba14-4b99-ff97-95d27c230859"
   }
  },
  {
   "cell_type": "markdown",
   "source": [
    "![connect](https://drive.google.com/uc?id=1CBBxpf32lL4sfaOpZIUtgUWXTe_jNktm)"
   ],
   "metadata": {
    "id": "dCDBQwfzSxXl"
   }
  },
  {
   "cell_type": "markdown",
   "source": [
    "# <font color=salmon>REGISTER THE MODEL</font>"
   ],
   "metadata": {
    "id": "paopGNFATD2a"
   }
  },
  {
   "cell_type": "markdown",
   "source": [
    "When we register a model, we **upload it to the cloud** (in our workspace's default storage account) and then mount it to the same compute where our webservice is running."
   ],
   "metadata": {
    "id": "DO97VJxYMefk"
   }
  },
  {
   "cell_type": "code",
   "execution_count": 4,
   "source": [
    "from azureml.core.model import Model\r\n",
    "\r\n",
    "# Register a model\r\n",
    "model = Model.register(workspace = ws,\r\n",
    "                       model_path= '/content/drive/MyDrive/OC_IA/P07/deploy_model', # include all the files in the folder\r\n",
    "                       model_name = 'tweet_sentiment_glove_lstm',\r\n",
    "                       description = 'Sentiment analysis with Glove embeddings trained outside AML')"
   ],
   "outputs": [
    {
     "output_type": "stream",
     "name": "stdout",
     "text": [
      "Registering model tweet_sentiment_glove_lstm\n"
     ]
    }
   ],
   "metadata": {
    "colab": {
     "base_uri": "https://localhost:8080/"
    },
    "id": "Sq16JZ8Pu8sa",
    "outputId": "908331b5-9751-4ef3-e9d6-50074b113a3d"
   }
  },
  {
   "cell_type": "markdown",
   "source": [
    "We can check the model creation on Azume Machine Learning Studio in the <code>**Models**</code> section."
   ],
   "metadata": {
    "id": "IGBTVOj_UYBB"
   }
  },
  {
   "cell_type": "markdown",
   "source": [
    "![model](https://drive.google.com/uc?id=1TFbhWVrGya_vXP6mYFy7EeUantcuJ8WO)"
   ],
   "metadata": {
    "id": "9spzIncGUXTn"
   }
  },
  {
   "cell_type": "markdown",
   "source": [
    "# <font color=salmon>WRITE ENTRY SCRIPT</font>"
   ],
   "metadata": {
    "id": "cSe-vzp9Ux2P"
   }
  },
  {
   "cell_type": "markdown",
   "source": [
    "Here we write the **entry script (*score.py*)** that will be used to deploy and predict with our model, including the following 2 main parts:\n",
    "- Load model with <code>**init()**</code> function;\n",
    "- Run model on input data with <code>**run()**</code> function.\n",
    "\n",
    "These are used to **initialize service** when the model is started, as well as **run the model** on data provided by the client. The other parts of the script take care of loading and running the model.\n",
    "\n",
    "There is no universal script for all models. We must create a script that specifies how the model loads, what kind of data it expects, and how the model is used to evaluate data.\n",
    "\n",
    "Other functions can be added as helpers."
   ],
   "metadata": {
    "id": "cmvy4yN8Yz3b"
   }
  },
  {
   "cell_type": "code",
   "execution_count": 5,
   "source": [
    "%%writefile score.py\r\n",
    "\r\n",
    "import numpy as np\r\n",
    "import json\r\n",
    "import pickle\r\n",
    "from time import time\r\n",
    "import os\r\n",
    "\r\n",
    "from tensorflow.keras.models import load_model\r\n",
    "from tensorflow.keras.preprocessing.text import Tokenizer\r\n",
    "from tensorflow.keras.preprocessing.sequence import pad_sequences\r\n",
    "\r\n",
    "\r\n",
    "def init():\r\n",
    "    global glove_model\r\n",
    "    global tokenizer\r\n",
    "    \r\n",
    "    # Get the path where the deployed model can be found\r\n",
    "    model_path = os.path.join(os.getenv('AZUREML_MODEL_DIR'), 'deploy_model')\r\n",
    "    \r\n",
    "    # Load existing model\r\n",
    "    glove_model = load_model(model_path + '/glove_model.h5')\r\n",
    "    \r\n",
    "    # Load tokenizer\r\n",
    "    with open(model_path + '/tokenizer.pickle', 'rb') as handle:\r\n",
    "        tokenizer = pickle.load(handle)\r\n",
    "\r\n",
    "# Handle request to the service\r\n",
    "def run(data):\r\n",
    "    try:\r\n",
    "        # Pick out the text property of the JSON request\r\n",
    "        # Expected JSON details {\"text\": \"some text to score for sentiment\"}\r\n",
    "        data = json.loads(data)\r\n",
    "        prediction = predict(data['text'])\r\n",
    "        return prediction\r\n",
    "    except Exception as e:\r\n",
    "        error = str(e)\r\n",
    "        return error\r\n",
    "\r\n",
    "# Determine sentiment from score\r\n",
    "NEGATIVE = 'NEGATIVE'\r\n",
    "POSITIVE = 'POSITIVE'\r\n",
    "def decode_sentiment(score):\r\n",
    "    return NEGATIVE if score < 0.5 else POSITIVE\r\n",
    "\r\n",
    "\r\n",
    "# Predict sentiment using the model\r\n",
    "SEQUENCE_LENGTH = 36\r\n",
    "def predict(text):\r\n",
    "    start = time()\r\n",
    "    \r\n",
    "    # Tokenize text\r\n",
    "    x_test = pad_sequences(tokenizer.texts_to_sequences([text]),\r\n",
    "                           maxlen=SEQUENCE_LENGTH)\r\n",
    "    \r\n",
    "    # Predict\r\n",
    "    score = glove_model.predict([x_test])[0]\r\n",
    "    \r\n",
    "    # Decode sentiment\r\n",
    "    label = decode_sentiment(score)\r\n",
    "\r\n",
    "    return {'label': label, 'score': float(score),\r\n",
    "       'elapsed_time': time()-start}  "
   ],
   "outputs": [
    {
     "output_type": "stream",
     "name": "stdout",
     "text": [
      "Writing score.py\n"
     ]
    }
   ],
   "metadata": {
    "colab": {
     "base_uri": "https://localhost:8080/"
    },
    "id": "TRK1vFLEWVFN",
    "outputId": "5aceefba-bb79-47b0-e19e-d3a29a069f8a"
   }
  },
  {
   "cell_type": "markdown",
   "source": [
    "# <font color=salmon>PREPARE ALL DEPLOYMENT CONFIGURATIONS</font>"
   ],
   "metadata": {
    "id": "RPq4cmiLa6__"
   }
  },
  {
   "cell_type": "markdown",
   "source": [
    "## <font color=green>INFERENCE CONFIGURATION</font>"
   ],
   "metadata": {
    "id": "amFmsJvMTXc7"
   }
  },
  {
   "cell_type": "markdown",
   "source": [
    "The inference configuration specifies an **environment** including the **dependencies** that enables the deployment of our model, and the **scoring script** that will be used for inference."
   ],
   "metadata": {
    "id": "g3NRerPk5vWL"
   }
  },
  {
   "cell_type": "code",
   "execution_count": 6,
   "source": [
    "from azureml.core.environment import Environment\r\n",
    "\r\n",
    "# Name environment and call requirements file\r\n",
    "# requirements: numpy, tensorflow, azumeml-defaults\r\n",
    "myenv = Environment.from_pip_requirements(name = 'myenv',\r\n",
    "                                          file_path = '/content/drive/MyDrive/OC_IA/P07/requirements.txt') "
   ],
   "outputs": [],
   "metadata": {
    "id": "1mNKuP5AcH3s"
   }
  },
  {
   "cell_type": "code",
   "execution_count": 7,
   "source": [
    "from azureml.core import Environment\r\n",
    "from azureml.core.model import InferenceConfig\r\n",
    "\r\n",
    "# Create inference configuration\r\n",
    "inference_config = InferenceConfig(environment=myenv,\r\n",
    "                                   entry_script='score.py')"
   ],
   "outputs": [],
   "metadata": {
    "id": "dSW32MNX4BmA"
   }
  },
  {
   "cell_type": "markdown",
   "source": [
    "## <font color=green>DEPLOYMENT CONFIGURATION</font>"
   ],
   "metadata": {
    "id": "Q1xG0K3-Tr0_"
   }
  },
  {
   "cell_type": "markdown",
   "source": [
    "Deploy the model means **convert it into an API** so users can call it and make predictions.\n",
    "\n",
    "We can choose to run the model as:\n",
    "- a local instance (LocalWebservice) for development purposes;\n",
    "- an Azure Container Instance (ACI) for Q&A (question and answer) testing purposes;\n",
    "- an Azure Kubernetes Service (AKS) for production use.\n",
    "\n",
    "Our choice is to deploy that model to **Azure Container Instances (ACI)**.\n",
    "\n",
    "ACI is suitable only for small models (otherwise, recommendation is to use single-node AKS to dev-test larger models)."
   ],
   "metadata": {
    "id": "kJR49QB0hs4Y"
   }
  },
  {
   "cell_type": "code",
   "execution_count": 8,
   "source": [
    "from azureml.core.webservice import AciWebservice #AksWebservice\r\n",
    "\r\n",
    "# Set the virtual machine capabilities\r\n",
    "deployment_config = AciWebservice.deploy_configuration(cpu_cores = 0.5,\r\n",
    "                                                       memory_gb = 3)"
   ],
   "outputs": [],
   "metadata": {
    "id": "i6C947nQ6le-"
   }
  },
  {
   "cell_type": "markdown",
   "source": [
    "# <font color=salmon>DEPLOY THE MODEL</font>"
   ],
   "metadata": {
    "id": "A_NE98OxWVrz"
   }
  },
  {
   "cell_type": "markdown",
   "source": [
    "To deploy our web service, we need to combine our environment, our inference compute, our scoring script and our registered model in the method <code>**deploy()**</code>.\n",
    "\n",
    "---\n",
    "\n",
    "This service can have several ***states***:\n",
    "- <font color=orange>**Transitioning**: the service is in the process of deployment - not a final state</font>;\n",
    "- <font color=orange>**Unhealthy**: the service had deployed but is currently unreachable - not a final state</font>;\n",
    "- <font color=orange>**Unschedulable**: the service cannot be deployed at this time due to lack of resources - not a final state</font>;\n",
    "- <font color=red>**Failed**: the service had failed to deploy due to an error or crash - final state</font>;\n",
    "- <font color=green>**Healthy**: the service is healthy and the endpoint is available - final state</font>.\n",
    "\n",
    "---\n",
    "\n",
    "**The goal is Healthy state!!**"
   ],
   "metadata": {
    "id": "AXBZubsXAWDd"
   }
  },
  {
   "cell_type": "markdown",
   "source": [
    "## <font color=green>RUN THE DEPLOYMENT</font>"
   ],
   "metadata": {
    "id": "QJHW3qefP-5x"
   }
  },
  {
   "cell_type": "markdown",
   "source": [
    "When we deploy the model, the **Azure Container Registry** (ACR) is created and this is one of the priced services."
   ],
   "metadata": {
    "id": "p51seSJKVlPo"
   }
  },
  {
   "cell_type": "code",
   "execution_count": 9,
   "source": [
    "from azureml.core.model import Model\r\n",
    "\r\n",
    "# Deploy ML model (Azure Container Instances)\r\n",
    "service = Model.deploy(workspace=ws,\r\n",
    "                       name='text-sentiment-service',\r\n",
    "                       models=[model],\r\n",
    "                       inference_config=inference_config,\r\n",
    "                       deployment_config=deployment_config)\r\n",
    "\r\n",
    "service.wait_for_deployment(show_output = True)\r\n",
    "\r\n",
    "# State should be healthy for successful deployment\r\n",
    "print(service.state)"
   ],
   "outputs": [
    {
     "output_type": "stream",
     "name": "stdout",
     "text": [
      "Tips: You can try get_logs(): https://aka.ms/debugimage#dockerlog or local deployment: https://aka.ms/debugimage#debug-locally to debug if deployment takes longer than 10 minutes.\n",
      "Running\n",
      "2021-05-06 21:05:48+00:00 Creating Container Registry if not exists.\n",
      "2021-05-06 21:05:48+00:00 Registering the environment.\n",
      "2021-05-06 21:05:49+00:00 Use the existing image.\n",
      "2021-05-06 21:05:49+00:00 Generating deployment configuration.\n",
      "2021-05-06 21:05:51+00:00 Submitting deployment to compute..\n",
      "2021-05-06 21:06:25+00:00 Checking the status of deployment text-sentiment-service..\n",
      "2021-05-06 21:08:38+00:00 Checking the status of inference endpoint text-sentiment-service.\n",
      "Succeeded\n",
      "ACI service creation operation finished, operation \"Succeeded\"\n",
      "Healthy\n"
     ]
    }
   ],
   "metadata": {
    "colab": {
     "base_uri": "https://localhost:8080/"
    },
    "id": "SYpGuU3CAIGx",
    "outputId": "1552e8f5-e2db-46f0-fcfb-a361f152935a"
   }
  },
  {
   "cell_type": "markdown",
   "source": [
    "On Azure ML Studio, we can see the ACR creation in the <code>**Endpoints**</code> section."
   ],
   "metadata": {
    "id": "zsS3NIVGWRRg"
   }
  },
  {
   "cell_type": "markdown",
   "source": [
    "![acr](https://drive.google.com/uc?id=1BPfdzjO4intPmonFmCiHPOIrkW-PoMIZ)"
   ],
   "metadata": {
    "id": "jh28_nqzWizC"
   }
  },
  {
   "cell_type": "markdown",
   "source": [
    "When the deployment is successful, we can see the State in Azure ML Studio as **Healthy** and the **REST endpoint** is available to consume the service."
   ],
   "metadata": {
    "id": "xhl2Oqcdbt83"
   }
  },
  {
   "cell_type": "markdown",
   "source": [
    "![healthy](https://drive.google.com/uc?id=1ZBB8QzoHWBz-mWbzfXIPfdIZHBMd5zwr)"
   ],
   "metadata": {
    "id": "tPN4w70mbd1Y"
   }
  },
  {
   "cell_type": "markdown",
   "source": [
    "## <font color=green>CHECK DEPLOYMENT STATUS</font>"
   ],
   "metadata": {
    "id": "yh9DnNW9P2YW"
   }
  },
  {
   "cell_type": "markdown",
   "source": [
    "We can check the service logs, especially if the service is **not healthy** or if we experience errors."
   ],
   "metadata": {
    "id": "9-jlDUgpco9g"
   }
  },
  {
   "cell_type": "code",
   "execution_count": 17,
   "source": [
    "# View the service logs\n",
    "print(service.get_logs())"
   ],
   "outputs": [
    {
     "output_type": "stream",
     "name": "stdout",
     "text": [
      "2021-05-06T20:42:58,618827400+00:00 - iot-server/run \n",
      "2021-05-06T20:42:58,622614200+00:00 - rsyslog/run \n",
      "2021-05-06T20:42:58,623876500+00:00 - gunicorn/run \n",
      "2021-05-06T20:42:58,646396900+00:00 - nginx/run \n",
      "/usr/sbin/nginx: /azureml-envs/azureml_d19f757c2fdd83e0b05731ace6695b70/lib/libcrypto.so.1.0.0: no version information available (required by /usr/sbin/nginx)\n",
      "/usr/sbin/nginx: /azureml-envs/azureml_d19f757c2fdd83e0b05731ace6695b70/lib/libcrypto.so.1.0.0: no version information available (required by /usr/sbin/nginx)\n",
      "/usr/sbin/nginx: /azureml-envs/azureml_d19f757c2fdd83e0b05731ace6695b70/lib/libssl.so.1.0.0: no version information available (required by /usr/sbin/nginx)\n",
      "/usr/sbin/nginx: /azureml-envs/azureml_d19f757c2fdd83e0b05731ace6695b70/lib/libssl.so.1.0.0: no version information available (required by /usr/sbin/nginx)\n",
      "/usr/sbin/nginx: /azureml-envs/azureml_d19f757c2fdd83e0b05731ace6695b70/lib/libssl.so.1.0.0: no version information available (required by /usr/sbin/nginx)\n",
      "EdgeHubConnectionString and IOTEDGE_IOTHUBHOSTNAME are not set. Exiting...\n",
      "2021-05-06T20:42:59,058543400+00:00 - iot-server/finish 1 0\n",
      "2021-05-06T20:42:59,063083500+00:00 - Exit code 1 is normal. Not restarting iot-server.\n",
      "Starting gunicorn 19.9.0\n",
      "Listening at: http://127.0.0.1:31311 (66)\n",
      "Using worker: sync\n",
      "worker timeout is set to 300\n",
      "Booting worker with pid: 91\n",
      "2021-05-06 20:43:00.703305: W tensorflow/stream_executor/platform/default/dso_loader.cc:60] Could not load dynamic library 'libcudart.so.11.0'; dlerror: libcudart.so.11.0: cannot open shared object file: No such file or directory; LD_LIBRARY_PATH: /azureml-envs/azureml_d19f757c2fdd83e0b05731ace6695b70/lib:/azureml-envs/azureml_d19f757c2fdd83e0b05731ace6695b70/lib:\n",
      "2021-05-06 20:43:00.703689: I tensorflow/stream_executor/cuda/cudart_stub.cc:29] Ignore above cudart dlerror if you do not have a GPU set up on your machine.\n",
      "SPARK_HOME not set. Skipping PySpark Initialization.\n",
      "Initializing logger\n",
      "2021-05-06 20:43:04,466 | root | INFO | Starting up app insights client\n",
      "2021-05-06 20:43:04,467 | root | INFO | Starting up request id generator\n",
      "2021-05-06 20:43:04,470 | root | INFO | Starting up app insight hooks\n",
      "2021-05-06 20:43:04,470 | root | INFO | Invoking user's init function\n",
      "2021-05-06 20:43:04.487946: I tensorflow/compiler/jit/xla_cpu_device.cc:41] Not creating XLA devices, tf_xla_enable_xla_devices not set\n",
      "2021-05-06 20:43:04.488607: W tensorflow/stream_executor/platform/default/dso_loader.cc:60] Could not load dynamic library 'libcuda.so.1'; dlerror: libcuda.so.1: cannot open shared object file: No such file or directory; LD_LIBRARY_PATH: /azureml-envs/azureml_d19f757c2fdd83e0b05731ace6695b70/lib:/azureml-envs/azureml_d19f757c2fdd83e0b05731ace6695b70/lib:\n",
      "2021-05-06 20:43:04.488853: W tensorflow/stream_executor/cuda/cuda_driver.cc:326] failed call to cuInit: UNKNOWN ERROR (303)\n",
      "2021-05-06 20:43:04.489066: I tensorflow/stream_executor/cuda/cuda_diagnostics.cc:156] kernel driver does not appear to be running on this host (SandboxHost-637559304716102047): /proc/driver/nvidia/version does not exist\n",
      "2021-05-06 20:43:04.489672: I tensorflow/core/platform/cpu_feature_guard.cc:142] This TensorFlow binary is optimized with oneAPI Deep Neural Network Library (oneDNN) to use the following CPU instructions in performance-critical operations:  AVX2 AVX512F FMA\n",
      "To enable them in other operations, rebuild TensorFlow with the appropriate compiler flags.\n",
      "2021-05-06 20:43:04.490162: I tensorflow/compiler/jit/xla_gpu_device.cc:99] Not creating XLA devices, tf_xla_enable_xla_devices not set\n",
      "2021-05-06 20:43:07,372 | root | INFO | Users's init has completed successfully\n",
      "2021-05-06 20:43:07,376 | root | INFO | Skipping middleware: dbg_model_info as it's not enabled.\n",
      "2021-05-06 20:43:07,376 | root | INFO | Skipping middleware: dbg_resource_usage as it's not enabled.\n",
      "2021-05-06 20:43:07,377 | root | INFO | Scoring timeout is found from os.environ: 60000 ms\n",
      "2021-05-06 20:43:07,390 | root | INFO | Swagger file not present\n",
      "2021-05-06 20:43:07,390 | root | INFO | 404\n",
      "127.0.0.1 - - [06/May/2021:20:43:07 +0000] \"GET /swagger.json HTTP/1.0\" 404 19 \"-\" \"Go-http-client/1.1\"\n",
      "2021-05-06 20:43:10,243 | root | INFO | Swagger file not present\n",
      "2021-05-06 20:43:10,244 | root | INFO | 404\n",
      "127.0.0.1 - - [06/May/2021:20:43:10 +0000] \"GET /swagger.json HTTP/1.0\" 404 19 \"-\" \"Go-http-client/1.1\"\n",
      "2021-05-06 20:44:36,752 | root | INFO | Swagger file not present\n",
      "2021-05-06 20:44:36,753 | root | INFO | 404\n",
      "127.0.0.1 - - [06/May/2021:20:44:36 +0000] \"GET /swagger.json HTTP/1.0\" 404 19 \"-\" \"Go-http-client/1.1\"\n",
      "\n"
     ]
    }
   ],
   "metadata": {
    "colab": {
     "base_uri": "https://localhost:8080/"
    },
    "id": "E1DyLhVoR-cm",
    "outputId": "2da796d8-dc50-4e72-8785-bcb0fc9bd3c1"
   }
  },
  {
   "cell_type": "markdown",
   "source": [
    "These logs are also available on Azure ML Studio."
   ],
   "metadata": {
    "id": "jnlwendgci52"
   }
  },
  {
   "cell_type": "markdown",
   "source": [
    "![logs](https://drive.google.com/uc?id=1R4_g0FuVVS0me0ocTOcgQbh2nafTqe_G)"
   ],
   "metadata": {
    "id": "BQ59U-uPcv0u"
   }
  },
  {
   "cell_type": "markdown",
   "source": [
    "## <font color=green>VIEW FROM AZURE PORTAL'S GRAPHICAL INTERFACE (STUDIO)</font>"
   ],
   "metadata": {
    "id": "Ja-TBKcMUj9G"
   }
  },
  {
   "cell_type": "markdown",
   "source": [
    "# <font color=salmon>CONSUME THE WEB SERVICE</font>"
   ],
   "metadata": {
    "id": "vJgZ9W2-UXMb"
   }
  },
  {
   "cell_type": "markdown",
   "source": [
    "After deploying the service, we can consume it from client applications to predict sentiments for new data cases.\n",
    "\n",
    "To do so, we grab the **scoring URI** for our newly deployed model. It's this scoring URI that our clients can make POST requests to, in order to make predictions against our model.\n",
    "\n",
    "The input data is a text in JSON format: it will be put into the body of the HTTP request and sent to the service encapsulating the model for scoring."
   ],
   "metadata": {
    "id": "ZDgWMAk3RL0c"
   }
  },
  {
   "cell_type": "code",
   "execution_count": 13,
   "source": [
    "import requests\n",
    "import json\n",
    "\n",
    "# Test after deployment\n",
    "# Set environment variables\n",
    "scoring_uri = 'copy the REST endpoint here' # this need to be fulfilled\n",
    "headers = {'Content-Type': 'application/json'}\n",
    "\n",
    "# Provide a text example\n",
    "data = json.dumps({'text':'user that is a bummer url hashtag'})\n",
    "\n",
    "# Call with POST request\n",
    "response = requests.post(scoring_uri, data=data, headers=headers)\n",
    "\n",
    "# Print result\n",
    "print('Status code: ', response.status_code)\n",
    "print('This tweet is: ', (response.json()).get('label'))\n",
    "print('Its score is: ', (response.json()).get('score'))\n",
    "print('Elapsed time: ', (response.json()).get('elapsed_time'))"
   ],
   "outputs": [
    {
     "output_type": "stream",
     "name": "stdout",
     "text": [
      "Status code:  200\n",
      "This tweet is:  NEGATIVE\n",
      "Its score is:  0.035684049129486084\n",
      "Elapsed time:  0.0719151496887207\n"
     ]
    }
   ],
   "metadata": {
    "colab": {
     "base_uri": "https://localhost:8080/"
    },
    "id": "tYHyVIUZ99Xj",
    "outputId": "c1715cf6-3e12-49cc-885d-8d70244812c5"
   }
  },
  {
   "cell_type": "markdown",
   "source": [
    "The service can also be tested on Azure ML Studio."
   ],
   "metadata": {
    "id": "Z5CmxsU-jBwl"
   }
  },
  {
   "cell_type": "markdown",
   "source": [
    "![test](https://drive.google.com/uc?id=1wNM1GT82CKliCZeYevtW_O4uS6Ifh8qn)"
   ],
   "metadata": {
    "id": "5C5C7-b1i7hB"
   }
  },
  {
   "cell_type": "markdown",
   "source": [
    "# <font color=salmon>EXPORT MODEL</font>"
   ],
   "metadata": {
    "id": "qmvpGR65eRub"
   }
  },
  {
   "cell_type": "markdown",
   "source": [
    "We can download a register model by navigating to the desired **Model** and choosing **Download**."
   ],
   "metadata": {
    "id": "kF4TeLJ7eYB2"
   }
  },
  {
   "cell_type": "markdown",
   "source": [
    "![download](https://drive.google.com/uc?id=1e6pVBpL8t73WHM4_RJuzz0OCC--lPfNU)"
   ],
   "metadata": {
    "id": "yrc_crcoehx4"
   }
  },
  {
   "cell_type": "markdown",
   "source": [
    "# <font color=salmon>DELETE UNUSED RESOURCES</font>"
   ],
   "metadata": {
    "id": "09aeaR_5OLLy"
   }
  },
  {
   "cell_type": "markdown",
   "source": [
    "A (compute) instance does not automatically scale down, so we need to make sure to stop the resource to prevent ongoing charges."
   ],
   "metadata": {
    "id": "-n7iSBmjF1k1"
   }
  },
  {
   "cell_type": "code",
   "execution_count": 14,
   "source": [
    "# Delete the (web) service\n",
    "service.delete()"
   ],
   "outputs": [],
   "metadata": {
    "id": "GABRnAzoBh-f"
   }
  },
  {
   "cell_type": "code",
   "execution_count": 15,
   "source": [
    "# Delete the model\n",
    "model.delete()"
   ],
   "outputs": [],
   "metadata": {
    "id": "sy4vBjwQBq3g"
   }
  },
  {
   "cell_type": "markdown",
   "source": [
    "Then we delete the Azure Container Registry in Azure Portal."
   ],
   "metadata": {
    "id": "MICcVmGvkW7m"
   }
  },
  {
   "cell_type": "markdown",
   "source": [
    "![delete](https://drive.google.com/uc?id=1jCNa-on-5poX09v6ex0z3QcEbpFmBY90)"
   ],
   "metadata": {
    "id": "QmcWwMVMkvO6"
   }
  }
 ],
 "metadata": {
  "colab": {
   "collapsed_sections": [],
   "name": "p7_05_deployement.ipynb",
   "provenance": [],
   "toc_visible": true
  },
  "kernelspec": {
   "display_name": "Python 3",
   "language": "python",
   "name": "python3"
  },
  "language_info": {
   "codemirror_mode": {
    "name": "ipython",
    "version": 3
   },
   "file_extension": ".py",
   "mimetype": "text/x-python",
   "name": "python",
   "nbconvert_exporter": "python",
   "pygments_lexer": "ipython3",
   "version": "3.8.5"
  }
 },
 "nbformat": 4,
 "nbformat_minor": 1
}